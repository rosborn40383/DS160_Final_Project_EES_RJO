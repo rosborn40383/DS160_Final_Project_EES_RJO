{
 "cells": [
  {
   "cell_type": "markdown",
   "id": "c920d401",
   "metadata": {},
   "source": [
    "# Elijah Sartin and Richard Osborn\n",
    "## DS160 Final Project Data Set\n",
    "### Version 0.0.1"
   ]
  },
  {
   "cell_type": "code",
   "execution_count": null,
   "id": "87e0283c",
   "metadata": {},
   "outputs": [],
   "source": [
    "import pandas as pd\n",
    "import numpy as np\n",
    "import matplotlib.pyplot as plt\n",
    "import seaborn as sns\n",
    "%matplotlib inline\n",
    "\n",
    "#Linear Regression (for comparison)\n",
    "from sklearn.linear_model import LinearRegression\n",
    "\n",
    "#Support Vector Machine\n",
    "from sklearn import svm\n",
    "\n",
    "#Provides a way to split the data into train and test data sets.\n",
    "from sklearn.model_selection import train_test_split \n",
    "\n",
    "#Provides a way to calculate metrics on the model\n",
    "from sklearn.metrics import accuracy_score, confusion_matrix, classification_report\n",
    "#from sklearn.metrics import roc_curve,  roc_auc_score"
   ]
  },
  {
   "cell_type": "code",
   "execution_count": 35,
   "id": "3e2bf160",
   "metadata": {},
   "outputs": [],
   "source": [
    "df=pd.read_csv('bank-additional.csv',sep=';')"
   ]
  },
  {
   "cell_type": "code",
   "execution_count": 84,
   "id": "4a1aa849",
   "metadata": {},
   "outputs": [
    {
     "data": {
      "text/html": [
       "<div>\n",
       "<style scoped>\n",
       "    .dataframe tbody tr th:only-of-type {\n",
       "        vertical-align: middle;\n",
       "    }\n",
       "\n",
       "    .dataframe tbody tr th {\n",
       "        vertical-align: top;\n",
       "    }\n",
       "\n",
       "    .dataframe thead th {\n",
       "        text-align: right;\n",
       "    }\n",
       "</style>\n",
       "<table border=\"1\" class=\"dataframe\">\n",
       "  <thead>\n",
       "    <tr style=\"text-align: right;\">\n",
       "      <th></th>\n",
       "      <th>age</th>\n",
       "      <th>job</th>\n",
       "      <th>marital</th>\n",
       "      <th>education</th>\n",
       "      <th>default</th>\n",
       "      <th>housing</th>\n",
       "      <th>loan</th>\n",
       "      <th>contact</th>\n",
       "      <th>month</th>\n",
       "      <th>day_of_week</th>\n",
       "      <th>duration</th>\n",
       "      <th>campaign</th>\n",
       "      <th>y</th>\n",
       "    </tr>\n",
       "  </thead>\n",
       "  <tbody>\n",
       "    <tr>\n",
       "      <th>1946</th>\n",
       "      <td>26</td>\n",
       "      <td>admin.</td>\n",
       "      <td>married</td>\n",
       "      <td>high.school</td>\n",
       "      <td>no</td>\n",
       "      <td>yes</td>\n",
       "      <td>no</td>\n",
       "      <td>cellular</td>\n",
       "      <td>nov</td>\n",
       "      <td>fri</td>\n",
       "      <td>338</td>\n",
       "      <td>1</td>\n",
       "      <td>yes</td>\n",
       "    </tr>\n",
       "    <tr>\n",
       "      <th>2143</th>\n",
       "      <td>49</td>\n",
       "      <td>technician</td>\n",
       "      <td>married</td>\n",
       "      <td>university.degree</td>\n",
       "      <td>no</td>\n",
       "      <td>no</td>\n",
       "      <td>no</td>\n",
       "      <td>telephone</td>\n",
       "      <td>may</td>\n",
       "      <td>mon</td>\n",
       "      <td>107</td>\n",
       "      <td>3</td>\n",
       "      <td>no</td>\n",
       "    </tr>\n",
       "    <tr>\n",
       "      <th>3329</th>\n",
       "      <td>32</td>\n",
       "      <td>management</td>\n",
       "      <td>single</td>\n",
       "      <td>university.degree</td>\n",
       "      <td>no</td>\n",
       "      <td>no</td>\n",
       "      <td>no</td>\n",
       "      <td>cellular</td>\n",
       "      <td>jul</td>\n",
       "      <td>fri</td>\n",
       "      <td>221</td>\n",
       "      <td>4</td>\n",
       "      <td>no</td>\n",
       "    </tr>\n",
       "    <tr>\n",
       "      <th>2014</th>\n",
       "      <td>36</td>\n",
       "      <td>blue-collar</td>\n",
       "      <td>single</td>\n",
       "      <td>basic.6y</td>\n",
       "      <td>no</td>\n",
       "      <td>no</td>\n",
       "      <td>no</td>\n",
       "      <td>cellular</td>\n",
       "      <td>nov</td>\n",
       "      <td>tue</td>\n",
       "      <td>238</td>\n",
       "      <td>1</td>\n",
       "      <td>yes</td>\n",
       "    </tr>\n",
       "    <tr>\n",
       "      <th>1211</th>\n",
       "      <td>27</td>\n",
       "      <td>blue-collar</td>\n",
       "      <td>single</td>\n",
       "      <td>basic.9y</td>\n",
       "      <td>no</td>\n",
       "      <td>no</td>\n",
       "      <td>yes</td>\n",
       "      <td>telephone</td>\n",
       "      <td>jun</td>\n",
       "      <td>thu</td>\n",
       "      <td>869</td>\n",
       "      <td>2</td>\n",
       "      <td>no</td>\n",
       "    </tr>\n",
       "  </tbody>\n",
       "</table>\n",
       "</div>"
      ],
      "text/plain": [
       "      age          job  marital          education default housing loan  \\\n",
       "1946   26       admin.  married        high.school      no     yes   no   \n",
       "2143   49   technician  married  university.degree      no      no   no   \n",
       "3329   32   management   single  university.degree      no      no   no   \n",
       "2014   36  blue-collar   single           basic.6y      no      no   no   \n",
       "1211   27  blue-collar   single           basic.9y      no      no  yes   \n",
       "\n",
       "        contact month day_of_week  duration  campaign    y  \n",
       "1946   cellular   nov         fri       338         1  yes  \n",
       "2143  telephone   may         mon       107         3   no  \n",
       "3329   cellular   jul         fri       221         4   no  \n",
       "2014   cellular   nov         tue       238         1  yes  \n",
       "1211  telephone   jun         thu       869         2   no  "
      ]
     },
     "execution_count": 84,
     "metadata": {},
     "output_type": "execute_result"
    }
   ],
   "source": [
    "df.sample(5)"
   ]
  },
  {
   "cell_type": "code",
   "execution_count": 37,
   "id": "4e004778",
   "metadata": {},
   "outputs": [
    {
     "data": {
      "text/plain": [
       "Index(['age', 'job', 'marital', 'education', 'default', 'housing', 'loan',\n",
       "       'contact', 'month', 'day_of_week', 'duration', 'campaign', 'pdays',\n",
       "       'previous', 'poutcome', 'emp.var.rate', 'cons.price.idx',\n",
       "       'cons.conf.idx', 'euribor3m', 'nr.employed', 'y'],\n",
       "      dtype='object')"
      ]
     },
     "execution_count": 37,
     "metadata": {},
     "output_type": "execute_result"
    }
   ],
   "source": [
    "df.columns"
   ]
  },
  {
   "cell_type": "code",
   "execution_count": 38,
   "id": "884c0f28",
   "metadata": {},
   "outputs": [
    {
     "data": {
      "text/plain": [
       "age                 int64\n",
       "job                object\n",
       "marital            object\n",
       "education          object\n",
       "default            object\n",
       "housing            object\n",
       "loan               object\n",
       "contact            object\n",
       "month              object\n",
       "day_of_week        object\n",
       "duration            int64\n",
       "campaign            int64\n",
       "pdays               int64\n",
       "previous            int64\n",
       "poutcome           object\n",
       "emp.var.rate      float64\n",
       "cons.price.idx    float64\n",
       "cons.conf.idx     float64\n",
       "euribor3m         float64\n",
       "nr.employed       float64\n",
       "y                  object\n",
       "dtype: object"
      ]
     },
     "execution_count": 38,
     "metadata": {},
     "output_type": "execute_result"
    }
   ],
   "source": [
    "df.dtypes"
   ]
  },
  {
   "cell_type": "markdown",
   "id": "8aa28a3a",
   "metadata": {},
   "source": [
    "We are dropping columns that we were not going to be using for testing, this will allow our data to proccess faster and clean the data."
   ]
  },
  {
   "cell_type": "code",
   "execution_count": 39,
   "id": "d7b94adb",
   "metadata": {},
   "outputs": [],
   "source": [
    "df.drop(df.columns[12:20],axis=1,inplace=True)"
   ]
  },
  {
   "cell_type": "code",
   "execution_count": 40,
   "id": "fc823553",
   "metadata": {},
   "outputs": [
    {
     "data": {
      "text/plain": [
       "Index(['age', 'job', 'marital', 'education', 'default', 'housing', 'loan',\n",
       "       'contact', 'month', 'day_of_week', 'duration', 'campaign', 'y'],\n",
       "      dtype='object')"
      ]
     },
     "execution_count": 40,
     "metadata": {},
     "output_type": "execute_result"
    }
   ],
   "source": [
    "df.columns"
   ]
  },
  {
   "cell_type": "code",
   "execution_count": 43,
   "id": "41a22821",
   "metadata": {},
   "outputs": [
    {
     "data": {
      "text/plain": [
       "Text(0, 0.5, 'Number of Clients')"
      ]
     },
     "execution_count": 43,
     "metadata": {},
     "output_type": "execute_result"
    },
    {
     "data": {
      "image/png": "[encoded data removed]",
      "text/plain": [
       "<Figure size 432x288 with 1 Axes>"
      ]
     },
     "metadata": {
      "needs_background": "light"
     },
     "output_type": "display_data"
    }
   ],
   "source": [
    "plt.hist(df.age,bins=20)\n",
    "plt.title('Client Age Distribution')\n",
    "plt.xlabel('Age')\n",
    "plt.ylabel('Number of Clients')"
   ]
  },
  {
   "cell_type": "code",
   "execution_count": 44,
   "id": "b78c5741",
   "metadata": {},
   "outputs": [
    {
     "data": {
      "text/plain": [
       "Text(0, 0.5, 'Number of Clients')"
      ]
     },
     "execution_count": 44,
     "metadata": {},
     "output_type": "execute_result"
    },
    {
     "data": {
      "image/png": "[encoded data removed]",
      "text/plain": [
       "<Figure size 432x288 with 1 Axes>"
      ]
     },
     "metadata": {
      "needs_background": "light"
     },
     "output_type": "display_data"
    }
   ],
   "source": [
    "plt.hist(df.duration,bins=20)\n",
    "plt.title('Campaign Duration Distribution')\n",
    "plt.xlabel('Campaign Duration')\n",
    "plt.ylabel('Number of Clients')"
   ]
  },
  {
   "cell_type": "code",
   "execution_count": 45,
   "id": "7d69f4b5",
   "metadata": {},
   "outputs": [
    {
     "data": {
      "text/plain": [
       "Text(0, 0.5, 'Number of Clients')"
      ]
     },
     "execution_count": 45,
     "metadata": {},
     "output_type": "execute_result"
    },
    {
     "data": {
      "image/png": "[encoded data removed]",
      "text/plain": [
       "<Figure size 432x288 with 1 Axes>"
      ]
     },
     "metadata": {
      "needs_background": "light"
     },
     "output_type": "display_data"
    }
   ],
   "source": [
    "plt.hist(df.campaign,bins=20)\n",
    "plt.title('Number of times contacted per campaign Distribution')\n",
    "plt.xlabel('Number of Times Contacted')\n",
    "plt.ylabel('Number of Clients')"
   ]
  },
  {
   "cell_type": "code",
   "execution_count": 48,
   "id": "52b3070a",
   "metadata": {},
   "outputs": [],
   "source": [
    "job=df.job.groupby(df.job).count()"
   ]
  },
  {
   "cell_type": "code",
   "execution_count": 83,
   "id": "c54884e3",
   "metadata": {},
   "outputs": [
    {
     "data": {
      "text/plain": [
       "<BarContainer object of 12 artists>"
      ]
     },
     "execution_count": 83,
     "metadata": {},
     "output_type": "execute_result"
    },
    {
     "data": {
      "image/png": "[encoded data removed]",
      "text/plain": [
       "<Figure size 432x288 with 1 Axes>"
      ]
     },
     "metadata": {
      "needs_background": "light"
     },
     "output_type": "display_data"
    }
   ],
   "source": [
    "plt.bar(job.index,job.values)"
   ]
  },
  {
   "cell_type": "code",
   "execution_count": 51,
   "id": "5f32609a",
   "metadata": {},
   "outputs": [],
   "source": [
    "marital=df.marital.groupby(df.marital).count()"
   ]
  },
  {
   "cell_type": "code",
   "execution_count": 66,
   "id": "2f0125ce",
   "metadata": {},
   "outputs": [
    {
     "data": {
      "text/plain": [
       "<BarContainer object of 4 artists>"
      ]
     },
     "execution_count": 66,
     "metadata": {},
     "output_type": "execute_result"
    },
    {
     "data": {
      "image/png": "[encoded data removed]",
      "text/plain": [
       "<Figure size 432x288 with 1 Axes>"
      ]
     },
     "metadata": {
      "needs_background": "light"
     },
     "output_type": "display_data"
    }
   ],
   "source": [
    "plt.bar(marital.index,marital.values)"
   ]
  },
  {
   "cell_type": "code",
   "execution_count": 53,
   "id": "b0e95da1",
   "metadata": {},
   "outputs": [],
   "source": [
    "education=df.education.groupby(df.education).count()"
   ]
  },
  {
   "cell_type": "code",
   "execution_count": 64,
   "id": "d60427e9",
   "metadata": {},
   "outputs": [
    {
     "data": {
      "text/plain": [
       "<BarContainer object of 8 artists>"
      ]
     },
     "execution_count": 64,
     "metadata": {},
     "output_type": "execute_result"
    },
    {
     "data": {
      "image/png": "[encoded data removed]",
      "text/plain": [
       "<Figure size 432x288 with 1 Axes>"
      ]
     },
     "metadata": {
      "needs_background": "light"
     },
     "output_type": "display_data"
    }
   ],
   "source": [
    "plt.bar(education.index,education.values)"
   ]
  },
  {
   "cell_type": "code",
   "execution_count": 62,
   "id": "f55cad20",
   "metadata": {},
   "outputs": [],
   "source": [
    "default=df.default.groupby(df.default).count()"
   ]
  },
  {
   "cell_type": "code",
   "execution_count": 65,
   "id": "e1f75b7d",
   "metadata": {},
   "outputs": [
    {
     "data": {
      "text/plain": [
       "<BarContainer object of 3 artists>"
      ]
     },
     "execution_count": 65,
     "metadata": {},
     "output_type": "execute_result"
    },
    {
     "data": {
      "image/png": "[encoded data removed]",
      "text/plain": [
       "<Figure size 432x288 with 1 Axes>"
      ]
     },
     "metadata": {
      "needs_background": "light"
     },
     "output_type": "display_data"
    }
   ],
   "source": [
    "plt.bar(default.index,default.values)"
   ]
  },
  {
   "cell_type": "code",
   "execution_count": 68,
   "id": "e16aac1a",
   "metadata": {},
   "outputs": [],
   "source": [
    "housing=df.housing.groupby(df.housing).count()"
   ]
  },
  {
   "cell_type": "code",
   "execution_count": 69,
   "id": "3f695dcd",
   "metadata": {},
   "outputs": [
    {
     "data": {
      "text/plain": [
       "<BarContainer object of 3 artists>"
      ]
     },
     "execution_count": 69,
     "metadata": {},
     "output_type": "execute_result"
    },
    {
     "data": {
      "image/png": "[encoded data removed]",
      "text/plain": [
       "<Figure size 432x288 with 1 Axes>"
      ]
     },
     "metadata": {
      "needs_background": "light"
     },
     "output_type": "display_data"
    }
   ],
   "source": [
    "plt.bar(housing.index,housing.values)"
   ]
  },
  {
   "cell_type": "code",
   "execution_count": 70,
   "id": "75efaa48",
   "metadata": {},
   "outputs": [],
   "source": [
    "loan=df.loan.groupby(df.loan).count()"
   ]
  },
  {
   "cell_type": "code",
   "execution_count": 71,
   "id": "8b89dbd7",
   "metadata": {},
   "outputs": [
    {
     "data": {
      "text/plain": [
       "<BarContainer object of 3 artists>"
      ]
     },
     "execution_count": 71,
     "metadata": {},
     "output_type": "execute_result"
    },
    {
     "data": {
      "image/png": "[encoded data removed]",
      "text/plain": [
       "<Figure size 432x288 with 1 Axes>"
      ]
     },
     "metadata": {
      "needs_background": "light"
     },
     "output_type": "display_data"
    }
   ],
   "source": [
    "plt.bar(loan.index,loan.values)"
   ]
  },
  {
   "cell_type": "code",
   "execution_count": 72,
   "id": "9900d047",
   "metadata": {},
   "outputs": [],
   "source": [
    "contact=df.contact.groupby(df.contact).count()"
   ]
  },
  {
   "cell_type": "code",
   "execution_count": 73,
   "id": "5c02f76c",
   "metadata": {},
   "outputs": [
    {
     "data": {
      "text/plain": [
       "<BarContainer object of 2 artists>"
      ]
     },
     "execution_count": 73,
     "metadata": {},
     "output_type": "execute_result"
    },
    {
     "data": {
      "image/png": "[encoded data removed]",
      "text/plain": [
       "<Figure size 432x288 with 1 Axes>"
      ]
     },
     "metadata": {
      "needs_background": "light"
     },
     "output_type": "display_data"
    }
   ],
   "source": [
    "plt.bar(contact.index,contact.values)"
   ]
  },
  {
   "cell_type": "code",
   "execution_count": 75,
   "id": "d38c830c",
   "metadata": {},
   "outputs": [],
   "source": [
    "month=df.month.groupby(df.month).count()"
   ]
  },
  {
   "cell_type": "code",
   "execution_count": 76,
   "id": "8ce80815",
   "metadata": {},
   "outputs": [
    {
     "data": {
      "text/plain": [
       "<BarContainer object of 10 artists>"
      ]
     },
     "execution_count": 76,
     "metadata": {},
     "output_type": "execute_result"
    },
    {
     "data": {
      "image/png": "[encoded data removed]",
      "text/plain": [
       "<Figure size 432x288 with 1 Axes>"
      ]
     },
     "metadata": {
      "needs_background": "light"
     },
     "output_type": "display_data"
    }
   ],
   "source": [
    "plt.bar(month.index,month.values)"
   ]
  },
  {
   "cell_type": "code",
   "execution_count": 79,
   "id": "dfe585c9",
   "metadata": {},
   "outputs": [],
   "source": [
    "day_of_week=df.day_of_week.groupby(df.day_of_week).count()"
   ]
  },
  {
   "cell_type": "code",
   "execution_count": 80,
   "id": "5f030e2b",
   "metadata": {},
   "outputs": [
    {
     "data": {
      "text/plain": [
       "<BarContainer object of 5 artists>"
      ]
     },
     "execution_count": 80,
     "metadata": {},
     "output_type": "execute_result"
    },
    {
     "data": {
      "image/png": "[encoded data removed]",
      "text/plain": [
       "<Figure size 432x288 with 1 Axes>"
      ]
     },
     "metadata": {
      "needs_background": "light"
     },
     "output_type": "display_data"
    }
   ],
   "source": [
    "plt.bar(day_of_week.index,day_of_week.values)"
   ]
  },
  {
   "cell_type": "code",
   "execution_count": 81,
   "id": "4baa5937",
   "metadata": {},
   "outputs": [],
   "source": [
    "y=df.y.groupby(df.y).count()"
   ]
  },
  {
   "cell_type": "code",
   "execution_count": 82,
   "id": "6772cf36",
   "metadata": {},
   "outputs": [
    {
     "data": {
      "text/plain": [
       "<BarContainer object of 2 artists>"
      ]
     },
     "execution_count": 82,
     "metadata": {},
     "output_type": "execute_result"
    },
    {
     "data": {
      "image/png": "[encoded data removed]",
      "text/plain": [
       "<Figure size 432x288 with 1 Axes>"
      ]
     },
     "metadata": {
      "needs_background": "light"
     },
     "output_type": "display_data"
    }
   ],
   "source": [
    "plt.bar(y.index,y.values)"
   ]
  },
  {
   "cell_type": "code",
   "execution_count": 86,
   "id": "a90e854e",
   "metadata": {},
   "outputs": [
    {
     "data": {
      "text/plain": [
       "month\n",
       "apr     215\n",
       "aug     636\n",
       "dec      22\n",
       "jul     711\n",
       "jun     530\n",
       "mar      48\n",
       "may    1378\n",
       "nov     446\n",
       "oct      69\n",
       "sep      64\n",
       "Name: month, dtype: int64"
      ]
     },
     "execution_count": 86,
     "metadata": {},
     "output_type": "execute_result"
    }
   ],
   "source": [
    "month"
   ]
  },
  {
   "cell_type": "code",
   "execution_count": null,
   "id": "34fd86c4",
   "metadata": {},
   "outputs": [],
   "source": []
  }
 ],
 "metadata": {
  "kernelspec": {
   "display_name": "Python 3",
   "language": "python",
   "name": "python3"
  },
  "language_info": {
   "codemirror_mode": {
    "name": "ipython",
    "version": 3
   },
   "file_extension": ".py",
   "mimetype": "text/x-python",
   "name": "python",
   "nbconvert_exporter": "python",
   "pygments_lexer": "ipython3",
   "version": "3.8.8"
  }
 },
 "nbformat": 4,
 "nbformat_minor": 5
}
