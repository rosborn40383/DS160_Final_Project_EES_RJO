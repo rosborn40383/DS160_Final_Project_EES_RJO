{
 "cells": [
  {
   "cell_type": "markdown",
   "id": "931c78a4",
   "metadata": {},
   "source": [
    "# Elijah Sartin and Richard Osborn\n",
    "## DS160 Final Project Data Set\n",
    "### Version 0.0.1"
   ]
  },
  {
   "cell_type": "code",
   "execution_count": 146,
   "id": "e09dba91",
   "metadata": {},
   "outputs": [],
   "source": [
    "import pandas as pd\n",
    "import numpy as np\n",
    "import matplotlib.pyplot as plt\n",
    "import seaborn as sns\n",
    "%matplotlib inline\n",
    "\n",
    "#Linear Regression (for comparison)\n",
    "from sklearn.linear_model import LinearRegression\n",
    "\n",
    "#Support Vector Machine\n",
    "from sklearn import svm\n",
    "\n",
    "#Provides a way to split the data into train and test data sets.\n",
    "from sklearn.model_selection import train_test_split \n",
    "\n",
    "#Provides a way to calculate metrics on the model\n",
    "from sklearn.metrics import accuracy_score, confusion_matrix, classification_report\n",
    "#from sklearn.metrics import roc_curve,  roc_auc_score"
   ]
  },
  {
   "cell_type": "code",
   "execution_count": 147,
   "id": "dcb2f419",
   "metadata": {},
   "outputs": [],
   "source": [
    "df=pd.read_csv('bank-additional.csv',sep=';')"
   ]
  },
  {
   "cell_type": "code",
   "execution_count": 148,
   "id": "d29f2a2b",
   "metadata": {},
   "outputs": [
    {
     "name": "stdout",
     "output_type": "stream",
     "text": [
      "(4119, 21)\n"
     ]
    }
   ],
   "source": [
    "print(df.shape)"
   ]
  },
  {
   "cell_type": "code",
   "execution_count": 149,
   "id": "a399ecf1",
   "metadata": {},
   "outputs": [
    {
     "data": {
      "text/html": [
       "<div>\n",
       "<style scoped>\n",
       "    .dataframe tbody tr th:only-of-type {\n",
       "        vertical-align: middle;\n",
       "    }\n",
       "\n",
       "    .dataframe tbody tr th {\n",
       "        vertical-align: top;\n",
       "    }\n",
       "\n",
       "    .dataframe thead th {\n",
       "        text-align: right;\n",
       "    }\n",
       "</style>\n",
       "<table border=\"1\" class=\"dataframe\">\n",
       "  <thead>\n",
       "    <tr style=\"text-align: right;\">\n",
       "      <th></th>\n",
       "      <th>age</th>\n",
       "      <th>job</th>\n",
       "      <th>marital</th>\n",
       "      <th>education</th>\n",
       "      <th>default</th>\n",
       "      <th>housing</th>\n",
       "      <th>loan</th>\n",
       "      <th>contact</th>\n",
       "      <th>month</th>\n",
       "      <th>day_of_week</th>\n",
       "      <th>...</th>\n",
       "      <th>campaign</th>\n",
       "      <th>pdays</th>\n",
       "      <th>previous</th>\n",
       "      <th>poutcome</th>\n",
       "      <th>emp.var.rate</th>\n",
       "      <th>cons.price.idx</th>\n",
       "      <th>cons.conf.idx</th>\n",
       "      <th>euribor3m</th>\n",
       "      <th>nr.employed</th>\n",
       "      <th>y</th>\n",
       "    </tr>\n",
       "  </thead>\n",
       "  <tbody>\n",
       "    <tr>\n",
       "      <th>517</th>\n",
       "      <td>51</td>\n",
       "      <td>management</td>\n",
       "      <td>married</td>\n",
       "      <td>university.degree</td>\n",
       "      <td>no</td>\n",
       "      <td>yes</td>\n",
       "      <td>no</td>\n",
       "      <td>cellular</td>\n",
       "      <td>may</td>\n",
       "      <td>mon</td>\n",
       "      <td>...</td>\n",
       "      <td>2</td>\n",
       "      <td>999</td>\n",
       "      <td>4</td>\n",
       "      <td>failure</td>\n",
       "      <td>-1.8</td>\n",
       "      <td>93.876</td>\n",
       "      <td>-40.0</td>\n",
       "      <td>0.697</td>\n",
       "      <td>5008.7</td>\n",
       "      <td>no</td>\n",
       "    </tr>\n",
       "    <tr>\n",
       "      <th>2769</th>\n",
       "      <td>46</td>\n",
       "      <td>admin.</td>\n",
       "      <td>married</td>\n",
       "      <td>high.school</td>\n",
       "      <td>no</td>\n",
       "      <td>no</td>\n",
       "      <td>no</td>\n",
       "      <td>cellular</td>\n",
       "      <td>nov</td>\n",
       "      <td>mon</td>\n",
       "      <td>...</td>\n",
       "      <td>1</td>\n",
       "      <td>999</td>\n",
       "      <td>1</td>\n",
       "      <td>failure</td>\n",
       "      <td>-0.1</td>\n",
       "      <td>93.200</td>\n",
       "      <td>-42.0</td>\n",
       "      <td>4.191</td>\n",
       "      <td>5195.8</td>\n",
       "      <td>no</td>\n",
       "    </tr>\n",
       "    <tr>\n",
       "      <th>1649</th>\n",
       "      <td>36</td>\n",
       "      <td>blue-collar</td>\n",
       "      <td>single</td>\n",
       "      <td>basic.9y</td>\n",
       "      <td>no</td>\n",
       "      <td>no</td>\n",
       "      <td>no</td>\n",
       "      <td>cellular</td>\n",
       "      <td>jul</td>\n",
       "      <td>mon</td>\n",
       "      <td>...</td>\n",
       "      <td>2</td>\n",
       "      <td>999</td>\n",
       "      <td>0</td>\n",
       "      <td>nonexistent</td>\n",
       "      <td>1.4</td>\n",
       "      <td>93.918</td>\n",
       "      <td>-42.7</td>\n",
       "      <td>4.962</td>\n",
       "      <td>5228.1</td>\n",
       "      <td>no</td>\n",
       "    </tr>\n",
       "    <tr>\n",
       "      <th>1275</th>\n",
       "      <td>20</td>\n",
       "      <td>student</td>\n",
       "      <td>single</td>\n",
       "      <td>high.school</td>\n",
       "      <td>no</td>\n",
       "      <td>no</td>\n",
       "      <td>no</td>\n",
       "      <td>cellular</td>\n",
       "      <td>nov</td>\n",
       "      <td>wed</td>\n",
       "      <td>...</td>\n",
       "      <td>2</td>\n",
       "      <td>999</td>\n",
       "      <td>0</td>\n",
       "      <td>nonexistent</td>\n",
       "      <td>-3.4</td>\n",
       "      <td>92.649</td>\n",
       "      <td>-30.1</td>\n",
       "      <td>0.715</td>\n",
       "      <td>5017.5</td>\n",
       "      <td>no</td>\n",
       "    </tr>\n",
       "    <tr>\n",
       "      <th>2160</th>\n",
       "      <td>62</td>\n",
       "      <td>retired</td>\n",
       "      <td>single</td>\n",
       "      <td>university.degree</td>\n",
       "      <td>no</td>\n",
       "      <td>yes</td>\n",
       "      <td>yes</td>\n",
       "      <td>cellular</td>\n",
       "      <td>may</td>\n",
       "      <td>mon</td>\n",
       "      <td>...</td>\n",
       "      <td>1</td>\n",
       "      <td>999</td>\n",
       "      <td>0</td>\n",
       "      <td>nonexistent</td>\n",
       "      <td>-1.8</td>\n",
       "      <td>92.893</td>\n",
       "      <td>-46.2</td>\n",
       "      <td>1.264</td>\n",
       "      <td>5099.1</td>\n",
       "      <td>no</td>\n",
       "    </tr>\n",
       "  </tbody>\n",
       "</table>\n",
       "<p>5 rows × 21 columns</p>\n",
       "</div>"
      ],
      "text/plain": [
       "      age          job  marital          education default housing loan  \\\n",
       "517    51   management  married  university.degree      no     yes   no   \n",
       "2769   46       admin.  married        high.school      no      no   no   \n",
       "1649   36  blue-collar   single           basic.9y      no      no   no   \n",
       "1275   20      student   single        high.school      no      no   no   \n",
       "2160   62      retired   single  university.degree      no     yes  yes   \n",
       "\n",
       "       contact month day_of_week  ...  campaign  pdays  previous     poutcome  \\\n",
       "517   cellular   may         mon  ...         2    999         4      failure   \n",
       "2769  cellular   nov         mon  ...         1    999         1      failure   \n",
       "1649  cellular   jul         mon  ...         2    999         0  nonexistent   \n",
       "1275  cellular   nov         wed  ...         2    999         0  nonexistent   \n",
       "2160  cellular   may         mon  ...         1    999         0  nonexistent   \n",
       "\n",
       "     emp.var.rate  cons.price.idx  cons.conf.idx  euribor3m  nr.employed   y  \n",
       "517          -1.8          93.876          -40.0      0.697       5008.7  no  \n",
       "2769         -0.1          93.200          -42.0      4.191       5195.8  no  \n",
       "1649          1.4          93.918          -42.7      4.962       5228.1  no  \n",
       "1275         -3.4          92.649          -30.1      0.715       5017.5  no  \n",
       "2160         -1.8          92.893          -46.2      1.264       5099.1  no  \n",
       "\n",
       "[5 rows x 21 columns]"
      ]
     },
     "execution_count": 149,
     "metadata": {},
     "output_type": "execute_result"
    }
   ],
   "source": [
    "df.sample(5)"
   ]
  },
  {
   "cell_type": "code",
   "execution_count": 150,
   "id": "dd127ff0",
   "metadata": {},
   "outputs": [
    {
     "data": {
      "text/plain": [
       "age                 int64\n",
       "job                object\n",
       "marital            object\n",
       "education          object\n",
       "default            object\n",
       "housing            object\n",
       "loan               object\n",
       "contact            object\n",
       "month              object\n",
       "day_of_week        object\n",
       "duration            int64\n",
       "campaign            int64\n",
       "pdays               int64\n",
       "previous            int64\n",
       "poutcome           object\n",
       "emp.var.rate      float64\n",
       "cons.price.idx    float64\n",
       "cons.conf.idx     float64\n",
       "euribor3m         float64\n",
       "nr.employed       float64\n",
       "y                  object\n",
       "dtype: object"
      ]
     },
     "execution_count": 150,
     "metadata": {},
     "output_type": "execute_result"
    }
   ],
   "source": [
    "df.dtypes"
   ]
  },
  {
   "cell_type": "code",
   "execution_count": 151,
   "id": "a8df89fb",
   "metadata": {},
   "outputs": [
    {
     "data": {
      "text/plain": [
       "Index(['age', 'job', 'marital', 'education', 'default', 'housing', 'loan',\n",
       "       'contact', 'month', 'day_of_week', 'duration', 'campaign', 'pdays',\n",
       "       'previous', 'poutcome', 'emp.var.rate', 'cons.price.idx',\n",
       "       'cons.conf.idx', 'euribor3m', 'nr.employed', 'y'],\n",
       "      dtype='object')"
      ]
     },
     "execution_count": 151,
     "metadata": {},
     "output_type": "execute_result"
    }
   ],
   "source": [
    "df.columns#need to change cons.price.idx"
   ]
  },
  {
   "cell_type": "markdown",
   "id": "de767eda",
   "metadata": {},
   "source": [
    "We are dropping columns that we were not going to be using for testing, this will allow our data to proccess faster and clean the data."
   ]
  },
  {
   "cell_type": "code",
   "execution_count": 152,
   "id": "67745d86",
   "metadata": {},
   "outputs": [],
   "source": [
    "df.drop(df.columns[[12,14,15,17,18,19]], axis = 1, inplace = True) \n",
    "#pdays,poutcome,emp.var.ratecons.conf.idx, euribor3m, nr.employed"
   ]
  },
  {
   "cell_type": "code",
   "execution_count": 153,
   "id": "296c43ce",
   "metadata": {},
   "outputs": [],
   "source": [
    "df.rename(columns={\"cons.price.idx\":\"cpi\"},inplace=True)\n"
   ]
  },
  {
   "cell_type": "code",
   "execution_count": 154,
   "id": "45d1d713",
   "metadata": {},
   "outputs": [
    {
     "data": {
      "text/plain": [
       "Index(['age', 'job', 'marital', 'education', 'default', 'housing', 'loan',\n",
       "       'contact', 'month', 'day_of_week', 'duration', 'campaign', 'previous',\n",
       "       'cpi', 'y'],\n",
       "      dtype='object')"
      ]
     },
     "execution_count": 154,
     "metadata": {},
     "output_type": "execute_result"
    }
   ],
   "source": [
    "df.columns"
   ]
  },
  {
   "cell_type": "code",
   "execution_count": 176,
   "id": "a22e08a4",
   "metadata": {},
   "outputs": [
    {
     "name": "stdout",
     "output_type": "stream",
     "text": [
      "(4119, 15)\n"
     ]
    }
   ],
   "source": [
    "print(df.shape)"
   ]
  },
  {
   "cell_type": "code",
   "execution_count": 179,
   "id": "c237d819",
   "metadata": {},
   "outputs": [],
   "source": [
    "age=df.age.groupby(df.age).count()"
   ]
  },
  {
   "cell_type": "code",
   "execution_count": 180,
   "id": "ad3642d9",
   "metadata": {},
   "outputs": [
    {
     "data": {
      "text/plain": [
       "Text(0, 0.5, 'Number of Clients')"
      ]
     },
     "execution_count": 180,
     "metadata": {},
     "output_type": "execute_result"
    },
    {
     "data": {
      "image/png": "[encoded data removed]",
      "text/plain": [
       "<Figure size 432x288 with 1 Axes>"
      ]
     },
     "metadata": {
      "needs_background": "light"
     },
     "output_type": "display_data"
    }
   ],
   "source": [
    "plt.hist(df.age,bins=20) #Kinda normal \n",
    "plt.title('Client Age Distribution')\n",
    "plt.xlabel('Age')\n",
    "plt.ylabel('Number of Clients')"
   ]
  },
  {
   "cell_type": "code",
   "execution_count": 181,
   "id": "4688113f",
   "metadata": {},
   "outputs": [],
   "source": [
    "duration=df.duration.groupby(df.duration).count()"
   ]
  },
  {
   "cell_type": "code",
   "execution_count": 182,
   "id": "faf3d584",
   "metadata": {},
   "outputs": [
    {
     "data": {
      "text/plain": [
       "Text(0, 0.5, 'Number of Clients')"
      ]
     },
     "execution_count": 182,
     "metadata": {},
     "output_type": "execute_result"
    },
    {
     "data": {
      "image/png": "[encoded data removed]",
      "text/plain": [
       "<Figure size 432x288 with 1 Axes>"
      ]
     },
     "metadata": {
      "needs_background": "light"
     },
     "output_type": "display_data"
    }
   ],
   "source": [
    "plt.hist(df.duration,bins=20) #skewed, maybe bound ?\n",
    "plt.title('Campaign Duration Distribution')\n",
    "plt.xlabel('Campaign Duration')\n",
    "plt.ylabel('Number of Clients')"
   ]
  },
  {
   "cell_type": "code",
   "execution_count": 183,
   "id": "fa0802f4",
   "metadata": {},
   "outputs": [],
   "source": [
    "campaign=df.campaign.groupby(df.campaign).count()"
   ]
  },
  {
   "cell_type": "code",
   "execution_count": 185,
   "id": "86875e27",
   "metadata": {},
   "outputs": [
    {
     "data": {
      "text/plain": [
       "Text(0, 0.5, 'Number of Clients')"
      ]
     },
     "execution_count": 185,
     "metadata": {},
     "output_type": "execute_result"
    },
    {
     "data": {
      "image/png": "[encoded data removed]",
      "text/plain": [
       "<Figure size 432x288 with 1 Axes>"
      ]
     },
     "metadata": {
      "needs_background": "light"
     },
     "output_type": "display_data"
    }
   ],
   "source": [
    "plt.hist(df.campaign,bins=20) #skewed, maybe bound?\n",
    "plt.title('Number of Times Contacted Per Campaign Distribution')\n",
    "plt.xlabel('Number of Times Contacted')\n",
    "plt.ylabel('Number of Clients')"
   ]
  },
  {
   "cell_type": "code",
   "execution_count": 48,
   "id": "81c422ab",
   "metadata": {},
   "outputs": [],
   "source": [
    "job=df.job.groupby(df.job).count()"
   ]
  },
  {
   "cell_type": "code",
   "execution_count": 83,
   "id": "72c1c332",
   "metadata": {},
   "outputs": [
    {
     "data": {
      "text/plain": [
       "<BarContainer object of 12 artists>"
      ]
     },
     "execution_count": 83,
     "metadata": {},
     "output_type": "execute_result"
    },
    {
     "data": {
      "image/png": "[encoded data removed]",
      "text/plain": [
       "<Figure size 432x288 with 1 Axes>"
      ]
     },
     "metadata": {
      "needs_background": "light"
     },
     "output_type": "display_data"
    }
   ],
   "source": [
    "plt.bar(job.index,job.values) #maybe landscape"
   ]
  },
  {
   "cell_type": "code",
   "execution_count": 51,
   "id": "8b1d9912",
   "metadata": {},
   "outputs": [],
   "source": [
    "marital=df.marital.groupby(df.marital).count()"
   ]
  },
  {
   "cell_type": "code",
   "execution_count": 66,
   "id": "09982784",
   "metadata": {},
   "outputs": [
    {
     "data": {
      "text/plain": [
       "<BarContainer object of 4 artists>"
      ]
     },
     "execution_count": 66,
     "metadata": {},
     "output_type": "execute_result"
    },
    {
     "data": {
      "image/png": "[encoded data removed]",
      "text/plain": [
       "<Figure size 432x288 with 1 Axes>"
      ]
     },
     "metadata": {
      "needs_background": "light"
     },
     "output_type": "display_data"
    }
   ],
   "source": [
    "plt.bar(marital.index,marital.values)"
   ]
  },
  {
   "cell_type": "code",
   "execution_count": 53,
   "id": "94950977",
   "metadata": {},
   "outputs": [],
   "source": [
    "education=df.education.groupby(df.education).count()"
   ]
  },
  {
   "cell_type": "code",
   "execution_count": 64,
   "id": "c81a899b",
   "metadata": {},
   "outputs": [
    {
     "data": {
      "text/plain": [
       "<BarContainer object of 8 artists>"
      ]
     },
     "execution_count": 64,
     "metadata": {},
     "output_type": "execute_result"
    },
    {
     "data": {
      "image/png": "[encoded data removed]",
      "text/plain": [
       "<Figure size 432x288 with 1 Axes>"
      ]
     },
     "metadata": {
      "needs_background": "light"
     },
     "output_type": "display_data"
    }
   ],
   "source": [
    "plt.bar(education.index,education.values)# maybe landscape"
   ]
  },
  {
   "cell_type": "code",
   "execution_count": 62,
   "id": "87a5594d",
   "metadata": {},
   "outputs": [],
   "source": [
    "default=df.default.groupby(df.default).count()"
   ]
  },
  {
   "cell_type": "code",
   "execution_count": 65,
   "id": "92034fd3",
   "metadata": {},
   "outputs": [
    {
     "data": {
      "text/plain": [
       "<BarContainer object of 3 artists>"
      ]
     },
     "execution_count": 65,
     "metadata": {},
     "output_type": "execute_result"
    },
    {
     "data": {
      "image/png": "[encoded data removed]",
      "text/plain": [
       "<Figure size 432x288 with 1 Axes>"
      ]
     },
     "metadata": {
      "needs_background": "light"
     },
     "output_type": "display_data"
    }
   ],
   "source": [
    "plt.bar(default.index,default.values)"
   ]
  },
  {
   "cell_type": "code",
   "execution_count": 68,
   "id": "403ee15a",
   "metadata": {},
   "outputs": [],
   "source": [
    "housing=df.housing.groupby(df.housing).count()"
   ]
  },
  {
   "cell_type": "code",
   "execution_count": 69,
   "id": "0eba3b91",
   "metadata": {},
   "outputs": [
    {
     "data": {
      "text/plain": [
       "<BarContainer object of 3 artists>"
      ]
     },
     "execution_count": 69,
     "metadata": {},
     "output_type": "execute_result"
    },
    {
     "data": {
      "image/png": "[encoded data removed]",
      "text/plain": [
       "<Figure size 432x288 with 1 Axes>"
      ]
     },
     "metadata": {
      "needs_background": "light"
     },
     "output_type": "display_data"
    }
   ],
   "source": [
    "plt.bar(housing.index,housing.values)"
   ]
  },
  {
   "cell_type": "code",
   "execution_count": 70,
   "id": "36b31d4b",
   "metadata": {},
   "outputs": [],
   "source": [
    "loan=df.loan.groupby(df.loan).count()"
   ]
  },
  {
   "cell_type": "code",
   "execution_count": 71,
   "id": "a0aafcb3",
   "metadata": {},
   "outputs": [
    {
     "data": {
      "text/plain": [
       "<BarContainer object of 3 artists>"
      ]
     },
     "execution_count": 71,
     "metadata": {},
     "output_type": "execute_result"
    },
    {
     "data": {
      "image/png": "[encoded data removed]",
      "text/plain": [
       "<Figure size 432x288 with 1 Axes>"
      ]
     },
     "metadata": {
      "needs_background": "light"
     },
     "output_type": "display_data"
    }
   ],
   "source": [
    "plt.bar(loan.index,loan.values)"
   ]
  },
  {
   "cell_type": "code",
   "execution_count": 72,
   "id": "f02b3e1f",
   "metadata": {},
   "outputs": [],
   "source": [
    "contact=df.contact.groupby(df.contact).count()"
   ]
  },
  {
   "cell_type": "code",
   "execution_count": 73,
   "id": "b5cc9fa6",
   "metadata": {},
   "outputs": [
    {
     "data": {
      "text/plain": [
       "<BarContainer object of 2 artists>"
      ]
     },
     "execution_count": 73,
     "metadata": {},
     "output_type": "execute_result"
    },
    {
     "data": {
      "image/png": "[encoded data removed]",
      "text/plain": [
       "<Figure size 432x288 with 1 Axes>"
      ]
     },
     "metadata": {
      "needs_background": "light"
     },
     "output_type": "display_data"
    }
   ],
   "source": [
    "plt.bar(contact.index,contact.values)"
   ]
  },
  {
   "cell_type": "code",
   "execution_count": 75,
   "id": "c7944238",
   "metadata": {},
   "outputs": [],
   "source": [
    "month=df.month.groupby(df.month).count()"
   ]
  },
  {
   "cell_type": "code",
   "execution_count": 76,
   "id": "4d693e5f",
   "metadata": {},
   "outputs": [
    {
     "data": {
      "text/plain": [
       "<BarContainer object of 10 artists>"
      ]
     },
     "execution_count": 76,
     "metadata": {},
     "output_type": "execute_result"
    },
    {
     "data": {
      "image/png": "[encoded data removed]",
      "text/plain": [
       "<Figure size 432x288 with 1 Axes>"
      ]
     },
     "metadata": {
      "needs_background": "light"
     },
     "output_type": "display_data"
    }
   ],
   "source": [
    "plt.bar(month.index,month.values)"
   ]
  },
  {
   "cell_type": "code",
   "execution_count": 79,
   "id": "ba845852",
   "metadata": {},
   "outputs": [],
   "source": [
    "day_of_week=df.day_of_week.groupby(df.day_of_week).count()"
   ]
  },
  {
   "cell_type": "code",
   "execution_count": 80,
   "id": "c42fc9b5",
   "metadata": {},
   "outputs": [
    {
     "data": {
      "text/plain": [
       "<BarContainer object of 5 artists>"
      ]
     },
     "execution_count": 80,
     "metadata": {},
     "output_type": "execute_result"
    },
    {
     "data": {
      "image/png": "[encoded data removed]",
      "text/plain": [
       "<Figure size 432x288 with 1 Axes>"
      ]
     },
     "metadata": {
      "needs_background": "light"
     },
     "output_type": "display_data"
    }
   ],
   "source": [
    "plt.bar(day_of_week.index,day_of_week.values)#lazy friday"
   ]
  },
  {
   "cell_type": "code",
   "execution_count": 81,
   "id": "527e7030",
   "metadata": {},
   "outputs": [],
   "source": [
    "y=df.y.groupby(df.y).count()"
   ]
  },
  {
   "cell_type": "code",
   "execution_count": 82,
   "id": "51ae5214",
   "metadata": {},
   "outputs": [
    {
     "data": {
      "text/plain": [
       "<BarContainer object of 2 artists>"
      ]
     },
     "execution_count": 82,
     "metadata": {},
     "output_type": "execute_result"
    },
    {
     "data": {
      "image/png": "[encoded data removed]",
      "text/plain": [
       "<Figure size 432x288 with 1 Axes>"
      ]
     },
     "metadata": {
      "needs_background": "light"
     },
     "output_type": "display_data"
    }
   ],
   "source": [
    "plt.bar(y.index,y.values)"
   ]
  },
  {
   "cell_type": "code",
   "execution_count": 169,
   "id": "7c615fd8",
   "metadata": {},
   "outputs": [],
   "source": [
    "previous=df.y.groupby(df.previous).count()"
   ]
  },
  {
   "cell_type": "code",
   "execution_count": 170,
   "id": "3733ad36",
   "metadata": {},
   "outputs": [
    {
     "data": {
      "text/plain": [
       "Text(0, 0.5, 'Number of Clients')"
      ]
     },
     "execution_count": 170,
     "metadata": {},
     "output_type": "execute_result"
    },
    {
     "data": {
      "image/png": "[encoded data removed]",
      "text/plain": [
       "<Figure size 432x288 with 1 Axes>"
      ]
     },
     "metadata": {
      "needs_background": "light"
     },
     "output_type": "display_data"
    }
   ],
   "source": [
    "plt.hist(df.previous,bins=20)\n",
    "plt.title('Previous Times Contacted Before Campaign Distribution')\n",
    "plt.xlabel('Times Contacted Before Campaign')\n",
    "plt.ylabel('Number of Clients')"
   ]
  },
  {
   "cell_type": "code",
   "execution_count": 171,
   "id": "7790d3b7",
   "metadata": {},
   "outputs": [],
   "source": [
    "cpi=df.cpi.groupby(df.cpi).count()"
   ]
  },
  {
   "cell_type": "code",
   "execution_count": 172,
   "id": "8f76f877",
   "metadata": {},
   "outputs": [
    {
     "data": {
      "text/plain": [
       "Text(0, 0.5, 'Number of Clients')"
      ]
     },
     "execution_count": 172,
     "metadata": {},
     "output_type": "execute_result"
    },
    {
     "data": {
      "image/png": "[encoded data removed]",
      "text/plain": [
       "<Figure size 432x288 with 1 Axes>"
      ]
     },
     "metadata": {
      "needs_background": "light"
     },
     "output_type": "display_data"
    }
   ],
   "source": [
    "#Compares prices to inflation. 100 means that they experienced no inflation compared to the base year(can't find).\n",
    "#Less than 100 implies that the inflation was negative, increasing the value of the consumers dollar's. \n",
    "#They are all different because people pay and make different incomes.\n",
    "plt.hist(df.cpi,bins=20) \n",
    "plt.title('Consumer Price Index (Monthly) Distribution')\n",
    "plt.xlabel('Consumer Price Index')\n",
    "plt.ylabel('Number of Clients')"
   ]
  },
  {
   "cell_type": "code",
   "execution_count": 165,
   "id": "55a7f7be",
   "metadata": {},
   "outputs": [
    {
     "data": {
      "text/plain": [
       "default\n",
       "no         3315\n",
       "unknown     803\n",
       "yes           1\n",
       "Name: default, dtype: int64"
      ]
     },
     "execution_count": 165,
     "metadata": {},
     "output_type": "execute_result"
    }
   ],
   "source": [
    "default #1 default lmao, why and who?"
   ]
  },
  {
   "cell_type": "code",
   "execution_count": 173,
   "id": "8fd8d7b4",
   "metadata": {},
   "outputs": [
    {
     "data": {
      "text/plain": [
       "cpi\n",
       "92.201     75\n",
       "92.379     25\n",
       "92.431     43\n",
       "92.469     14\n",
       "92.649     36\n",
       "92.713     21\n",
       "92.756      1\n",
       "92.843     25\n",
       "92.893    597\n",
       "92.963     75\n",
       "93.075    201\n",
       "93.200    386\n",
       "93.369     23\n",
       "93.444    528\n",
       "93.749     14\n",
       "93.798      6\n",
       "93.876     23\n",
       "93.918    667\n",
       "93.994    758\n",
       "94.027     33\n",
       "94.055     24\n",
       "94.199     39\n",
       "94.215     30\n",
       "94.465    431\n",
       "94.601     20\n",
       "94.767     24\n",
       "Name: cpi, dtype: int64"
      ]
     },
     "execution_count": 173,
     "metadata": {},
     "output_type": "execute_result"
    }
   ],
   "source": [
    "cpi #92.201-94.767"
   ]
  },
  {
   "cell_type": "code",
   "execution_count": 186,
   "id": "6eac1931",
   "metadata": {},
   "outputs": [
    {
     "data": {
      "text/plain": [
       "campaign\n",
       "1     1764\n",
       "2     1039\n",
       "3      549\n",
       "4      291\n",
       "5      142\n",
       "6       99\n",
       "7       60\n",
       "8       36\n",
       "9       32\n",
       "10      20\n",
       "11      19\n",
       "12      16\n",
       "13      11\n",
       "14       6\n",
       "15       2\n",
       "16       7\n",
       "17      14\n",
       "18       1\n",
       "19       2\n",
       "22       2\n",
       "23       2\n",
       "24       1\n",
       "27       1\n",
       "29       2\n",
       "35       1\n",
       "Name: campaign, dtype: int64"
      ]
     },
     "execution_count": 186,
     "metadata": {},
     "output_type": "execute_result"
    }
   ],
   "source": [
    " campaign #1-35"
   ]
  },
  {
   "cell_type": "code",
   "execution_count": 187,
   "id": "b852094c",
   "metadata": {},
   "outputs": [
    {
     "data": {
      "text/plain": [
       "duration\n",
       "0       1\n",
       "4       1\n",
       "5       4\n",
       "6       5\n",
       "7       4\n",
       "       ..\n",
       "1980    1\n",
       "2301    1\n",
       "2653    1\n",
       "3253    1\n",
       "3643    1\n",
       "Name: duration, Length: 828, dtype: int64"
      ]
     },
     "execution_count": 187,
     "metadata": {},
     "output_type": "execute_result"
    }
   ],
   "source": [
    "duration #0-2000"
   ]
  },
  {
   "cell_type": "code",
   "execution_count": 188,
   "id": "b617d3a3",
   "metadata": {},
   "outputs": [
    {
     "data": {
      "text/html": [
       "<div>\n",
       "<style scoped>\n",
       "    .dataframe tbody tr th:only-of-type {\n",
       "        vertical-align: middle;\n",
       "    }\n",
       "\n",
       "    .dataframe tbody tr th {\n",
       "        vertical-align: top;\n",
       "    }\n",
       "\n",
       "    .dataframe thead th {\n",
       "        text-align: right;\n",
       "    }\n",
       "</style>\n",
       "<table border=\"1\" class=\"dataframe\">\n",
       "  <thead>\n",
       "    <tr style=\"text-align: right;\">\n",
       "      <th></th>\n",
       "      <th>age</th>\n",
       "      <th>duration</th>\n",
       "      <th>campaign</th>\n",
       "      <th>previous</th>\n",
       "      <th>cpi</th>\n",
       "    </tr>\n",
       "  </thead>\n",
       "  <tbody>\n",
       "    <tr>\n",
       "      <th>count</th>\n",
       "      <td>4119.000000</td>\n",
       "      <td>4119.000000</td>\n",
       "      <td>4119.000000</td>\n",
       "      <td>4119.000000</td>\n",
       "      <td>4119.000000</td>\n",
       "    </tr>\n",
       "    <tr>\n",
       "      <th>mean</th>\n",
       "      <td>40.113620</td>\n",
       "      <td>256.788055</td>\n",
       "      <td>2.537266</td>\n",
       "      <td>0.190337</td>\n",
       "      <td>93.579704</td>\n",
       "    </tr>\n",
       "    <tr>\n",
       "      <th>std</th>\n",
       "      <td>10.313362</td>\n",
       "      <td>254.703736</td>\n",
       "      <td>2.568159</td>\n",
       "      <td>0.541788</td>\n",
       "      <td>0.579349</td>\n",
       "    </tr>\n",
       "    <tr>\n",
       "      <th>min</th>\n",
       "      <td>18.000000</td>\n",
       "      <td>0.000000</td>\n",
       "      <td>1.000000</td>\n",
       "      <td>0.000000</td>\n",
       "      <td>92.201000</td>\n",
       "    </tr>\n",
       "    <tr>\n",
       "      <th>25%</th>\n",
       "      <td>32.000000</td>\n",
       "      <td>103.000000</td>\n",
       "      <td>1.000000</td>\n",
       "      <td>0.000000</td>\n",
       "      <td>93.075000</td>\n",
       "    </tr>\n",
       "    <tr>\n",
       "      <th>50%</th>\n",
       "      <td>38.000000</td>\n",
       "      <td>181.000000</td>\n",
       "      <td>2.000000</td>\n",
       "      <td>0.000000</td>\n",
       "      <td>93.749000</td>\n",
       "    </tr>\n",
       "    <tr>\n",
       "      <th>75%</th>\n",
       "      <td>47.000000</td>\n",
       "      <td>317.000000</td>\n",
       "      <td>3.000000</td>\n",
       "      <td>0.000000</td>\n",
       "      <td>93.994000</td>\n",
       "    </tr>\n",
       "    <tr>\n",
       "      <th>max</th>\n",
       "      <td>88.000000</td>\n",
       "      <td>3643.000000</td>\n",
       "      <td>35.000000</td>\n",
       "      <td>6.000000</td>\n",
       "      <td>94.767000</td>\n",
       "    </tr>\n",
       "  </tbody>\n",
       "</table>\n",
       "</div>"
      ],
      "text/plain": [
       "               age     duration     campaign     previous          cpi\n",
       "count  4119.000000  4119.000000  4119.000000  4119.000000  4119.000000\n",
       "mean     40.113620   256.788055     2.537266     0.190337    93.579704\n",
       "std      10.313362   254.703736     2.568159     0.541788     0.579349\n",
       "min      18.000000     0.000000     1.000000     0.000000    92.201000\n",
       "25%      32.000000   103.000000     1.000000     0.000000    93.075000\n",
       "50%      38.000000   181.000000     2.000000     0.000000    93.749000\n",
       "75%      47.000000   317.000000     3.000000     0.000000    93.994000\n",
       "max      88.000000  3643.000000    35.000000     6.000000    94.767000"
      ]
     },
     "execution_count": 188,
     "metadata": {},
     "output_type": "execute_result"
    }
   ],
   "source": [
    "df.describe()"
   ]
  },
  {
   "cell_type": "code",
   "execution_count": null,
   "id": "9fe88638",
   "metadata": {},
   "outputs": [],
   "source": []
  }
 ],
 "metadata": {
  "kernelspec": {
   "display_name": "Python 3",
   "language": "python",
   "name": "python3"
  },
  "language_info": {
   "codemirror_mode": {
    "name": "ipython",
    "version": 3
   },
   "file_extension": ".py",
   "mimetype": "text/x-python",
   "name": "python",
   "nbconvert_exporter": "python",
   "pygments_lexer": "ipython3",
   "version": "3.8.8"
  }
 },
 "nbformat": 4,
 "nbformat_minor": 5
}
