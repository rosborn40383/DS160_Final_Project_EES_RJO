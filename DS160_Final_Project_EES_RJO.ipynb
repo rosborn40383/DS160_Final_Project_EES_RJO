{
 "cells": [
  {
   "cell_type": "markdown",
   "id": "18da0876",
   "metadata": {},
   "source": [
    "# Elijah Sartin and Richard Osborn\n",
    "## DS160 Final Project Data Set\n",
    "### Version 1.0.0"
   ]
  },
  {
   "cell_type": "code",
   "execution_count": 1,
   "id": "4f977e80",
   "metadata": {},
   "outputs": [],
   "source": [
    "import pandas as pd\n",
    "import numpy as np\n",
    "import matplotlib.pyplot as plt\n",
    "import seaborn as sns\n",
    "%matplotlib inline\n",
    "#Provides a way to split the data into train and test data sets.\n",
    "from sklearn.model_selection import train_test_split \n",
    "\n",
    "#Provides a way to calculate metrics on the model\n",
    "from sklearn.metrics import accuracy_score, confusion_matrix, classification_report\n",
    "#from sklearn.metrics import roc_curve,  roc_auc_score\n",
    "\n",
    "from sklearn.linear_model import LogisticRegression\n",
    "from sklearn.metrics import classification_report, confusion_matrix\n",
    "# Decision Tree model from SKLearn\n",
    "from sklearn.tree import DecisionTreeClassifier\n",
    "from sklearn import tree\n",
    "from sklearn.tree import export_text\n",
    "from sklearn.ensemble import RandomForestClassifier"
   ]
  },
  {
   "cell_type": "markdown",
   "id": "43d959c4",
   "metadata": {},
   "source": [
    "Had to use 'sep=';' so that the data would be read in properly"
   ]
  },
  {
   "cell_type": "code",
   "execution_count": 2,
   "id": "45307db5",
   "metadata": {},
   "outputs": [],
   "source": [
    "df=pd.read_csv('bank-additional.csv',sep=';')"
   ]
  },
  {
   "cell_type": "markdown",
   "id": "d757887b",
   "metadata": {},
   "source": [
    "Checking the shape of the data. This has 4119 samples and 21 columns."
   ]
  },
  {
   "cell_type": "code",
   "execution_count": 3,
   "id": "b4f1429d",
   "metadata": {},
   "outputs": [
    {
     "name": "stdout",
     "output_type": "stream",
     "text": [
      "(4119, 21)\n"
     ]
    }
   ],
   "source": [
    "print(df.shape)"
   ]
  },
  {
   "cell_type": "code",
   "execution_count": 4,
   "id": "512523e1",
   "metadata": {},
   "outputs": [
    {
     "data": {
      "text/html": [
       "<div>\n",
       "<style scoped>\n",
       "    .dataframe tbody tr th:only-of-type {\n",
       "        vertical-align: middle;\n",
       "    }\n",
       "\n",
       "    .dataframe tbody tr th {\n",
       "        vertical-align: top;\n",
       "    }\n",
       "\n",
       "    .dataframe thead th {\n",
       "        text-align: right;\n",
       "    }\n",
       "</style>\n",
       "<table border=\"1\" class=\"dataframe\">\n",
       "  <thead>\n",
       "    <tr style=\"text-align: right;\">\n",
       "      <th></th>\n",
       "      <th>age</th>\n",
       "      <th>job</th>\n",
       "      <th>marital</th>\n",
       "      <th>education</th>\n",
       "      <th>default</th>\n",
       "      <th>housing</th>\n",
       "      <th>loan</th>\n",
       "      <th>contact</th>\n",
       "      <th>month</th>\n",
       "      <th>day_of_week</th>\n",
       "      <th>...</th>\n",
       "      <th>campaign</th>\n",
       "      <th>pdays</th>\n",
       "      <th>previous</th>\n",
       "      <th>poutcome</th>\n",
       "      <th>emp.var.rate</th>\n",
       "      <th>cons.price.idx</th>\n",
       "      <th>cons.conf.idx</th>\n",
       "      <th>euribor3m</th>\n",
       "      <th>nr.employed</th>\n",
       "      <th>y</th>\n",
       "    </tr>\n",
       "  </thead>\n",
       "  <tbody>\n",
       "    <tr>\n",
       "      <th>607</th>\n",
       "      <td>58</td>\n",
       "      <td>retired</td>\n",
       "      <td>divorced</td>\n",
       "      <td>high.school</td>\n",
       "      <td>no</td>\n",
       "      <td>yes</td>\n",
       "      <td>no</td>\n",
       "      <td>cellular</td>\n",
       "      <td>jun</td>\n",
       "      <td>tue</td>\n",
       "      <td>...</td>\n",
       "      <td>2</td>\n",
       "      <td>999</td>\n",
       "      <td>0</td>\n",
       "      <td>nonexistent</td>\n",
       "      <td>-2.9</td>\n",
       "      <td>92.963</td>\n",
       "      <td>-40.8</td>\n",
       "      <td>1.262</td>\n",
       "      <td>5076.2</td>\n",
       "      <td>no</td>\n",
       "    </tr>\n",
       "    <tr>\n",
       "      <th>2434</th>\n",
       "      <td>26</td>\n",
       "      <td>blue-collar</td>\n",
       "      <td>married</td>\n",
       "      <td>basic.9y</td>\n",
       "      <td>no</td>\n",
       "      <td>yes</td>\n",
       "      <td>no</td>\n",
       "      <td>telephone</td>\n",
       "      <td>jun</td>\n",
       "      <td>wed</td>\n",
       "      <td>...</td>\n",
       "      <td>1</td>\n",
       "      <td>999</td>\n",
       "      <td>0</td>\n",
       "      <td>nonexistent</td>\n",
       "      <td>1.4</td>\n",
       "      <td>94.465</td>\n",
       "      <td>-41.8</td>\n",
       "      <td>4.864</td>\n",
       "      <td>5228.1</td>\n",
       "      <td>no</td>\n",
       "    </tr>\n",
       "    <tr>\n",
       "      <th>1242</th>\n",
       "      <td>31</td>\n",
       "      <td>admin.</td>\n",
       "      <td>married</td>\n",
       "      <td>university.degree</td>\n",
       "      <td>no</td>\n",
       "      <td>yes</td>\n",
       "      <td>no</td>\n",
       "      <td>telephone</td>\n",
       "      <td>may</td>\n",
       "      <td>thu</td>\n",
       "      <td>...</td>\n",
       "      <td>4</td>\n",
       "      <td>999</td>\n",
       "      <td>0</td>\n",
       "      <td>nonexistent</td>\n",
       "      <td>1.1</td>\n",
       "      <td>93.994</td>\n",
       "      <td>-36.4</td>\n",
       "      <td>4.860</td>\n",
       "      <td>5191.0</td>\n",
       "      <td>no</td>\n",
       "    </tr>\n",
       "    <tr>\n",
       "      <th>2072</th>\n",
       "      <td>41</td>\n",
       "      <td>technician</td>\n",
       "      <td>married</td>\n",
       "      <td>professional.course</td>\n",
       "      <td>no</td>\n",
       "      <td>no</td>\n",
       "      <td>no</td>\n",
       "      <td>cellular</td>\n",
       "      <td>apr</td>\n",
       "      <td>fri</td>\n",
       "      <td>...</td>\n",
       "      <td>1</td>\n",
       "      <td>999</td>\n",
       "      <td>0</td>\n",
       "      <td>nonexistent</td>\n",
       "      <td>-1.8</td>\n",
       "      <td>93.075</td>\n",
       "      <td>-47.1</td>\n",
       "      <td>1.405</td>\n",
       "      <td>5099.1</td>\n",
       "      <td>no</td>\n",
       "    </tr>\n",
       "    <tr>\n",
       "      <th>2140</th>\n",
       "      <td>30</td>\n",
       "      <td>technician</td>\n",
       "      <td>single</td>\n",
       "      <td>university.degree</td>\n",
       "      <td>no</td>\n",
       "      <td>yes</td>\n",
       "      <td>no</td>\n",
       "      <td>cellular</td>\n",
       "      <td>jun</td>\n",
       "      <td>fri</td>\n",
       "      <td>...</td>\n",
       "      <td>2</td>\n",
       "      <td>999</td>\n",
       "      <td>0</td>\n",
       "      <td>nonexistent</td>\n",
       "      <td>-2.9</td>\n",
       "      <td>92.963</td>\n",
       "      <td>-40.8</td>\n",
       "      <td>1.268</td>\n",
       "      <td>5076.2</td>\n",
       "      <td>yes</td>\n",
       "    </tr>\n",
       "  </tbody>\n",
       "</table>\n",
       "<p>5 rows × 21 columns</p>\n",
       "</div>"
      ],
      "text/plain": [
       "      age          job   marital            education default housing loan  \\\n",
       "607    58      retired  divorced          high.school      no     yes   no   \n",
       "2434   26  blue-collar   married             basic.9y      no     yes   no   \n",
       "1242   31       admin.   married    university.degree      no     yes   no   \n",
       "2072   41   technician   married  professional.course      no      no   no   \n",
       "2140   30   technician    single    university.degree      no     yes   no   \n",
       "\n",
       "        contact month day_of_week  ...  campaign  pdays  previous  \\\n",
       "607    cellular   jun         tue  ...         2    999         0   \n",
       "2434  telephone   jun         wed  ...         1    999         0   \n",
       "1242  telephone   may         thu  ...         4    999         0   \n",
       "2072   cellular   apr         fri  ...         1    999         0   \n",
       "2140   cellular   jun         fri  ...         2    999         0   \n",
       "\n",
       "         poutcome emp.var.rate  cons.price.idx  cons.conf.idx  euribor3m  \\\n",
       "607   nonexistent         -2.9          92.963          -40.8      1.262   \n",
       "2434  nonexistent          1.4          94.465          -41.8      4.864   \n",
       "1242  nonexistent          1.1          93.994          -36.4      4.860   \n",
       "2072  nonexistent         -1.8          93.075          -47.1      1.405   \n",
       "2140  nonexistent         -2.9          92.963          -40.8      1.268   \n",
       "\n",
       "      nr.employed    y  \n",
       "607        5076.2   no  \n",
       "2434       5228.1   no  \n",
       "1242       5191.0   no  \n",
       "2072       5099.1   no  \n",
       "2140       5076.2  yes  \n",
       "\n",
       "[5 rows x 21 columns]"
      ]
     },
     "execution_count": 4,
     "metadata": {},
     "output_type": "execute_result"
    }
   ],
   "source": [
    "df.sample(5)"
   ]
  },
  {
   "cell_type": "markdown",
   "id": "c932433b",
   "metadata": {},
   "source": [
    "Discovering what type of data each column is"
   ]
  },
  {
   "cell_type": "code",
   "execution_count": 5,
   "id": "5b04b6c6",
   "metadata": {},
   "outputs": [
    {
     "data": {
      "text/plain": [
       "age                 int64\n",
       "job                object\n",
       "marital            object\n",
       "education          object\n",
       "default            object\n",
       "housing            object\n",
       "loan               object\n",
       "contact            object\n",
       "month              object\n",
       "day_of_week        object\n",
       "duration            int64\n",
       "campaign            int64\n",
       "pdays               int64\n",
       "previous            int64\n",
       "poutcome           object\n",
       "emp.var.rate      float64\n",
       "cons.price.idx    float64\n",
       "cons.conf.idx     float64\n",
       "euribor3m         float64\n",
       "nr.employed       float64\n",
       "y                  object\n",
       "dtype: object"
      ]
     },
     "execution_count": 5,
     "metadata": {},
     "output_type": "execute_result"
    }
   ],
   "source": [
    "df.dtypes"
   ]
  },
  {
   "cell_type": "code",
   "execution_count": 6,
   "id": "eecc131f",
   "metadata": {},
   "outputs": [
    {
     "data": {
      "text/plain": [
       "Index(['age', 'job', 'marital', 'education', 'default', 'housing', 'loan',\n",
       "       'contact', 'month', 'day_of_week', 'duration', 'campaign', 'pdays',\n",
       "       'previous', 'poutcome', 'emp.var.rate', 'cons.price.idx',\n",
       "       'cons.conf.idx', 'euribor3m', 'nr.employed', 'y'],\n",
       "      dtype='object')"
      ]
     },
     "execution_count": 6,
     "metadata": {},
     "output_type": "execute_result"
    }
   ],
   "source": [
    "df.columns"
   ]
  },
  {
   "cell_type": "markdown",
   "id": "d8214f37",
   "metadata": {},
   "source": [
    "We are dropping columns that we were not going to be using for testing, this will allow our data to proccess faster and clean the data."
   ]
  },
  {
   "cell_type": "code",
   "execution_count": 7,
   "id": "a5ea551e",
   "metadata": {},
   "outputs": [],
   "source": [
    " df.drop(df.columns[[8, 9, 10, 12, 13, 14, 15, 17, 19]], \n",
    "   axis = 1, inplace = True)\n"
   ]
  },
  {
   "cell_type": "code",
   "execution_count": 8,
   "id": "17346165",
   "metadata": {},
   "outputs": [],
   "source": [
    "df = df.dropna()"
   ]
  },
  {
   "cell_type": "markdown",
   "id": "6dd2ab8e",
   "metadata": {},
   "source": [
    "Renaming the consumer price index and euribor 3 month rate to make it easier to type the column names."
   ]
  },
  {
   "cell_type": "code",
   "execution_count": 9,
   "id": "86cf5558",
   "metadata": {},
   "outputs": [],
   "source": [
    "df.rename(columns={\"cons.price.idx\":\"cpi\"},inplace=True)\n",
    "df.rename(columns={\"euribor3m\":\"eu3\"},inplace=True)"
   ]
  },
  {
   "cell_type": "code",
   "execution_count": 10,
   "id": "3b4f7cfd",
   "metadata": {},
   "outputs": [
    {
     "data": {
      "text/plain": [
       "Index(['age', 'job', 'marital', 'education', 'default', 'housing', 'loan',\n",
       "       'contact', 'campaign', 'cpi', 'eu3', 'y'],\n",
       "      dtype='object')"
      ]
     },
     "execution_count": 10,
     "metadata": {},
     "output_type": "execute_result"
    }
   ],
   "source": [
    "df.columns"
   ]
  },
  {
   "cell_type": "markdown",
   "id": "3f3bb2fa",
   "metadata": {},
   "source": [
    "Seeing what missing data was dropped and it appears as none was since the sample is still 4119"
   ]
  },
  {
   "cell_type": "code",
   "execution_count": 82,
   "id": "1a2229f7",
   "metadata": {},
   "outputs": [
    {
     "name": "stdout",
     "output_type": "stream",
     "text": [
      "(4119, 12)\n"
     ]
    }
   ],
   "source": [
    "print(df.shape)"
   ]
  },
  {
   "cell_type": "markdown",
   "id": "79348d5e",
   "metadata": {},
   "source": [
    "For most of the categories, we created a groupby with the count so that we could see specific distributions. We also created distribution graphs that showed us the distributions with clients on the y axis."
   ]
  },
  {
   "cell_type": "code",
   "execution_count": 84,
   "id": "2c26694b",
   "metadata": {},
   "outputs": [
    {
     "data": {
      "text/plain": [
       "age\n",
       "18     3\n",
       "19     1\n",
       "20     4\n",
       "21     7\n",
       "22    10\n",
       "      ..\n",
       "81     3\n",
       "82     2\n",
       "85     1\n",
       "86     2\n",
       "88     1\n",
       "Name: age, Length: 67, dtype: int64"
      ]
     },
     "execution_count": 84,
     "metadata": {},
     "output_type": "execute_result"
    }
   ],
   "source": [
    "age=df.age.groupby(df.age).count()\n",
    "age"
   ]
  },
  {
   "cell_type": "markdown",
   "id": "545dffa3",
   "metadata": {},
   "source": [
    "This is relatively normally distributed, with a few outliers past age 65."
   ]
  },
  {
   "cell_type": "code",
   "execution_count": 13,
   "id": "102a54ee",
   "metadata": {},
   "outputs": [
    {
     "data": {
      "text/plain": [
       "Text(0, 0.5, 'Number of Clients')"
      ]
     },
     "execution_count": 13,
     "metadata": {},
     "output_type": "execute_result"
    },
    {
     "data": {
      "image/png": "[encoded data removed]",
      "text/plain": [
       "<Figure size 432x288 with 1 Axes>"
      ]
     },
     "metadata": {
      "needs_background": "light"
     },
     "output_type": "display_data"
    }
   ],
   "source": [
    "plt.hist(df.age,bins=20) \n",
    "plt.title('Client Age Distribution')\n",
    "plt.xlabel('Age')\n",
    "plt.ylabel('Number of Clients')"
   ]
  },
  {
   "cell_type": "code",
   "execution_count": 86,
   "id": "4523080d",
   "metadata": {},
   "outputs": [
    {
     "data": {
      "text/plain": [
       "campaign\n",
       "1     1764\n",
       "2     1039\n",
       "3      549\n",
       "4      291\n",
       "5      142\n",
       "6       99\n",
       "7       60\n",
       "8       36\n",
       "9       32\n",
       "10      20\n",
       "11      19\n",
       "12      16\n",
       "13      11\n",
       "14       6\n",
       "15       2\n",
       "16       7\n",
       "17      14\n",
       "18       1\n",
       "19       2\n",
       "22       2\n",
       "23       2\n",
       "24       1\n",
       "27       1\n",
       "29       2\n",
       "35       1\n",
       "Name: campaign, dtype: int64"
      ]
     },
     "execution_count": 86,
     "metadata": {},
     "output_type": "execute_result"
    }
   ],
   "source": [
    "campaign=df.campaign.groupby(df.campaign).count()\n",
    "campaign"
   ]
  },
  {
   "cell_type": "code",
   "execution_count": 87,
   "id": "dfaf001c",
   "metadata": {},
   "outputs": [
    {
     "data": {
      "text/plain": [
       "Text(0, 0.5, 'Number of Clients')"
      ]
     },
     "execution_count": 87,
     "metadata": {},
     "output_type": "execute_result"
    },
    {
     "data": {
      "image/png": "[encoded data removed]",
      "text/plain": [
       "<Figure size 432x288 with 1 Axes>"
      ]
     },
     "metadata": {
      "needs_background": "light"
     },
     "output_type": "display_data"
    }
   ],
   "source": [
    "plt.hist(df.campaign,bins=20) \n",
    "plt.title('Number of Times Contacted Per Campaign Distribution')\n",
    "plt.xlabel('Number of Times Contacted')\n",
    "plt.ylabel('Number of Clients')"
   ]
  },
  {
   "cell_type": "code",
   "execution_count": 88,
   "id": "e109a972",
   "metadata": {},
   "outputs": [
    {
     "data": {
      "text/plain": [
       "job\n",
       "admin.           1012\n",
       "blue-collar       884\n",
       "entrepreneur      148\n",
       "housemaid         110\n",
       "management        324\n",
       "retired           166\n",
       "self-employed     159\n",
       "services          393\n",
       "student            82\n",
       "technician        691\n",
       "unemployed        111\n",
       "unknown            39\n",
       "Name: job, dtype: int64"
      ]
     },
     "execution_count": 88,
     "metadata": {},
     "output_type": "execute_result"
    }
   ],
   "source": [
    "job=df.job.groupby(df.job).count()\n",
    "job"
   ]
  },
  {
   "cell_type": "markdown",
   "id": "c2b4d140",
   "metadata": {},
   "source": [
    "Changed the orientation to landscape so that the axis would be legible."
   ]
  },
  {
   "cell_type": "code",
   "execution_count": 19,
   "id": "e0b622a7",
   "metadata": {},
   "outputs": [
    {
     "data": {
      "text/plain": [
       "<BarContainer object of 12 artists>"
      ]
     },
     "execution_count": 19,
     "metadata": {},
     "output_type": "execute_result"
    },
    {
     "data": {
      "image/png": "[encoded data removed]",
      "text/plain": [
       "<Figure size 432x288 with 1 Axes>"
      ]
     },
     "metadata": {
      "needs_background": "light"
     },
     "output_type": "display_data"
    }
   ],
   "source": [
    "plt.barh(job.index,job.values) "
   ]
  },
  {
   "cell_type": "code",
   "execution_count": 89,
   "id": "18a84525",
   "metadata": {},
   "outputs": [
    {
     "data": {
      "text/plain": [
       "marital\n",
       "divorced     446\n",
       "married     2509\n",
       "single      1153\n",
       "unknown       11\n",
       "Name: marital, dtype: int64"
      ]
     },
     "execution_count": 89,
     "metadata": {},
     "output_type": "execute_result"
    }
   ],
   "source": [
    "marital=df.marital.groupby(df.marital).count()\n",
    "marital"
   ]
  },
  {
   "cell_type": "code",
   "execution_count": 21,
   "id": "33b8751a",
   "metadata": {},
   "outputs": [
    {
     "data": {
      "text/plain": [
       "<BarContainer object of 4 artists>"
      ]
     },
     "execution_count": 21,
     "metadata": {},
     "output_type": "execute_result"
    },
    {
     "data": {
      "image/png": "[encoded data removed]",
      "text/plain": [
       "<Figure size 432x288 with 1 Axes>"
      ]
     },
     "metadata": {
      "needs_background": "light"
     },
     "output_type": "display_data"
    }
   ],
   "source": [
    "plt.bar(marital.index,marital.values)"
   ]
  },
  {
   "cell_type": "code",
   "execution_count": 90,
   "id": "9aa29ddb",
   "metadata": {},
   "outputs": [
    {
     "data": {
      "text/plain": [
       "education\n",
       "basic.4y                429\n",
       "basic.6y                228\n",
       "basic.9y                574\n",
       "high.school             921\n",
       "illiterate                1\n",
       "professional.course     535\n",
       "university.degree      1264\n",
       "unknown                 167\n",
       "Name: education, dtype: int64"
      ]
     },
     "execution_count": 90,
     "metadata": {},
     "output_type": "execute_result"
    }
   ],
   "source": [
    "education=df.education.groupby(df.education).count()\n",
    "education"
   ]
  },
  {
   "cell_type": "code",
   "execution_count": 23,
   "id": "af2e3a8a",
   "metadata": {},
   "outputs": [
    {
     "data": {
      "text/plain": [
       "<BarContainer object of 8 artists>"
      ]
     },
     "execution_count": 23,
     "metadata": {},
     "output_type": "execute_result"
    },
    {
     "data": {
      "image/png": "[encoded data removed]",
      "text/plain": [
       "<Figure size 432x288 with 1 Axes>"
      ]
     },
     "metadata": {
      "needs_background": "light"
     },
     "output_type": "display_data"
    }
   ],
   "source": [
    "plt.barh(education.index,education.values)"
   ]
  },
  {
   "cell_type": "markdown",
   "id": "3fe8c661",
   "metadata": {},
   "source": [
    "Only one person had answered that they had defaulted on the loan. We suspect that it could be do to not wanting to admit something like that to a telemarketer or they were not asked."
   ]
  },
  {
   "cell_type": "code",
   "execution_count": 91,
   "id": "f1e95878",
   "metadata": {},
   "outputs": [
    {
     "data": {
      "text/plain": [
       "default\n",
       "no         3315\n",
       "unknown     803\n",
       "yes           1\n",
       "Name: default, dtype: int64"
      ]
     },
     "execution_count": 91,
     "metadata": {},
     "output_type": "execute_result"
    }
   ],
   "source": [
    "default=df.default.groupby(df.default).count()\n",
    "default"
   ]
  },
  {
   "cell_type": "code",
   "execution_count": 92,
   "id": "87217ef6",
   "metadata": {},
   "outputs": [
    {
     "data": {
      "text/plain": [
       "<BarContainer object of 3 artists>"
      ]
     },
     "execution_count": 92,
     "metadata": {},
     "output_type": "execute_result"
    },
    {
     "data": {
      "image/png": "[encoded data removed]",
      "text/plain": [
       "<Figure size 432x288 with 1 Axes>"
      ]
     },
     "metadata": {
      "needs_background": "light"
     },
     "output_type": "display_data"
    }
   ],
   "source": [
    "plt.bar(default.index,default.values)"
   ]
  },
  {
   "cell_type": "markdown",
   "id": "dc480369",
   "metadata": {},
   "source": [
    "This is the people who have a housing loan."
   ]
  },
  {
   "cell_type": "code",
   "execution_count": 26,
   "id": "4da75ece",
   "metadata": {},
   "outputs": [
    {
     "data": {
      "text/plain": [
       "housing\n",
       "no         1839\n",
       "unknown     105\n",
       "yes        2175\n",
       "Name: housing, dtype: int64"
      ]
     },
     "execution_count": 26,
     "metadata": {},
     "output_type": "execute_result"
    }
   ],
   "source": [
    "housing=df.housing.groupby(df.housing).count()\n",
    "housing"
   ]
  },
  {
   "cell_type": "code",
   "execution_count": 27,
   "id": "4444feed",
   "metadata": {},
   "outputs": [
    {
     "data": {
      "text/plain": [
       "<BarContainer object of 3 artists>"
      ]
     },
     "execution_count": 27,
     "metadata": {},
     "output_type": "execute_result"
    },
    {
     "data": {
      "image/png": "[encoded data removed]",
      "text/plain": [
       "<Figure size 432x288 with 1 Axes>"
      ]
     },
     "metadata": {
      "needs_background": "light"
     },
     "output_type": "display_data"
    }
   ],
   "source": [
    "plt.bar(housing.index,housing.values)"
   ]
  },
  {
   "cell_type": "markdown",
   "id": "9c2d1e79",
   "metadata": {},
   "source": [
    "This is the people who have a personal loan."
   ]
  },
  {
   "cell_type": "code",
   "execution_count": 93,
   "id": "a8a20d2e",
   "metadata": {},
   "outputs": [
    {
     "data": {
      "text/plain": [
       "loan\n",
       "no         3349\n",
       "unknown     105\n",
       "yes         665\n",
       "Name: loan, dtype: int64"
      ]
     },
     "execution_count": 93,
     "metadata": {},
     "output_type": "execute_result"
    }
   ],
   "source": [
    "loan=df.loan.groupby(df.loan).count()\n",
    "loan"
   ]
  },
  {
   "cell_type": "code",
   "execution_count": 29,
   "id": "a4c17444",
   "metadata": {},
   "outputs": [
    {
     "data": {
      "text/plain": [
       "<BarContainer object of 3 artists>"
      ]
     },
     "execution_count": 29,
     "metadata": {},
     "output_type": "execute_result"
    },
    {
     "data": {
      "image/png": "[encoded data removed]",
      "text/plain": [
       "<Figure size 432x288 with 1 Axes>"
      ]
     },
     "metadata": {
      "needs_background": "light"
     },
     "output_type": "display_data"
    }
   ],
   "source": [
    "plt.bar(loan.index,loan.values)"
   ]
  },
  {
   "cell_type": "markdown",
   "id": "b2aaa27b",
   "metadata": {},
   "source": [
    "The method of phone contact."
   ]
  },
  {
   "cell_type": "code",
   "execution_count": 94,
   "id": "aded77a4",
   "metadata": {},
   "outputs": [
    {
     "data": {
      "text/plain": [
       "contact\n",
       "cellular     2652\n",
       "telephone    1467\n",
       "Name: contact, dtype: int64"
      ]
     },
     "execution_count": 94,
     "metadata": {},
     "output_type": "execute_result"
    }
   ],
   "source": [
    "contact=df.contact.groupby(df.contact).count()\n",
    "contact"
   ]
  },
  {
   "cell_type": "code",
   "execution_count": 31,
   "id": "6634e07f",
   "metadata": {},
   "outputs": [
    {
     "data": {
      "text/plain": [
       "<BarContainer object of 2 artists>"
      ]
     },
     "execution_count": 31,
     "metadata": {},
     "output_type": "execute_result"
    },
    {
     "data": {
      "image/png": "[encoded data removed]",
      "text/plain": [
       "<Figure size 432x288 with 1 Axes>"
      ]
     },
     "metadata": {
      "needs_background": "light"
     },
     "output_type": "display_data"
    }
   ],
   "source": [
    "plt.bar(contact.index,contact.values)"
   ]
  },
  {
   "cell_type": "markdown",
   "id": "83d3e11c",
   "metadata": {},
   "source": [
    "One important thing we did here was not name the groupby y. This would have caused us further complications when using the machine learning models."
   ]
  },
  {
   "cell_type": "code",
   "execution_count": 95,
   "id": "0e92c9ff",
   "metadata": {},
   "outputs": [
    {
     "data": {
      "text/plain": [
       "y\n",
       "0    3668\n",
       "1     451\n",
       "Name: y, dtype: int64"
      ]
     },
     "execution_count": 95,
     "metadata": {},
     "output_type": "execute_result"
    }
   ],
   "source": [
    "p=df.y.groupby(df.y).count() #IMPORTANT\n",
    "p"
   ]
  },
  {
   "cell_type": "code",
   "execution_count": 38,
   "id": "06481d7d",
   "metadata": {},
   "outputs": [
    {
     "data": {
      "text/plain": [
       "Text(0, 0.5, 'Number of Clients')"
      ]
     },
     "execution_count": 38,
     "metadata": {},
     "output_type": "execute_result"
    },
    {
     "data": {
      "image/png": "[encoded data removed]",
      "text/plain": [
       "<Figure size 432x288 with 1 Axes>"
      ]
     },
     "metadata": {
      "needs_background": "light"
     },
     "output_type": "display_data"
    }
   ],
   "source": [
    "plt.hist(df.y,bins=3)\n",
    "plt.title('If They Subscribed a Term Deposit Distribution')\n",
    "plt.xlabel('If They Subscribed a Term Deposit')\n",
    "plt.ylabel('Number of Clients')"
   ]
  },
  {
   "cell_type": "markdown",
   "id": "ba464480",
   "metadata": {},
   "source": [
    "The consumer price index (CPI) is cost of an average basket of goods for the average household. If this is above 100% then that means there was inflation when compared to the base year (which is not known for our case) and if below 100%, that means there was deflation. All of the CPI's were under 95."
   ]
  },
  {
   "cell_type": "code",
   "execution_count": 96,
   "id": "322531ad",
   "metadata": {},
   "outputs": [
    {
     "data": {
      "text/plain": [
       "cpi\n",
       "92.201     75\n",
       "92.379     25\n",
       "92.431     43\n",
       "92.469     14\n",
       "92.649     36\n",
       "92.713     21\n",
       "92.756      1\n",
       "92.843     25\n",
       "92.893    597\n",
       "92.963     75\n",
       "93.075    201\n",
       "93.200    386\n",
       "93.369     23\n",
       "93.444    528\n",
       "93.749     14\n",
       "93.798      6\n",
       "93.876     23\n",
       "93.918    667\n",
       "93.994    758\n",
       "94.027     33\n",
       "94.055     24\n",
       "94.199     39\n",
       "94.215     30\n",
       "94.465    431\n",
       "94.601     20\n",
       "94.767     24\n",
       "Name: cpi, dtype: int64"
      ]
     },
     "execution_count": 96,
     "metadata": {},
     "output_type": "execute_result"
    }
   ],
   "source": [
    "cpi=df.cpi.groupby(df.cpi).count()\n",
    "cpi"
   ]
  },
  {
   "cell_type": "code",
   "execution_count": 97,
   "id": "524fb25e",
   "metadata": {},
   "outputs": [
    {
     "data": {
      "text/plain": [
       "Text(0, 0.5, 'Number of Clients')"
      ]
     },
     "execution_count": 97,
     "metadata": {},
     "output_type": "execute_result"
    },
    {
     "data": {
      "image/png": "[encoded data removed]",
      "text/plain": [
       "<Figure size 432x288 with 1 Axes>"
      ]
     },
     "metadata": {
      "needs_background": "light"
     },
     "output_type": "display_data"
    }
   ],
   "source": [
    "plt.hist(df.cpi,bins=20) \n",
    "plt.title('Consumer Price Index (Monthly) Distribution')\n",
    "plt.xlabel('Consumer Price Index')\n",
    "plt.ylabel('Number of Clients')"
   ]
  },
  {
   "cell_type": "markdown",
   "id": "5b44593c",
   "metadata": {},
   "source": [
    "The basic descriptive statistics of the numeric variables that will be used in our machine learning."
   ]
  },
  {
   "cell_type": "code",
   "execution_count": 99,
   "id": "7deb47d7",
   "metadata": {},
   "outputs": [
    {
     "data": {
      "text/html": [
       "<div>\n",
       "<style scoped>\n",
       "    .dataframe tbody tr th:only-of-type {\n",
       "        vertical-align: middle;\n",
       "    }\n",
       "\n",
       "    .dataframe tbody tr th {\n",
       "        vertical-align: top;\n",
       "    }\n",
       "\n",
       "    .dataframe thead th {\n",
       "        text-align: right;\n",
       "    }\n",
       "</style>\n",
       "<table border=\"1\" class=\"dataframe\">\n",
       "  <thead>\n",
       "    <tr style=\"text-align: right;\">\n",
       "      <th></th>\n",
       "      <th>age</th>\n",
       "      <th>campaign</th>\n",
       "      <th>cpi</th>\n",
       "      <th>eu3</th>\n",
       "      <th>y</th>\n",
       "    </tr>\n",
       "  </thead>\n",
       "  <tbody>\n",
       "    <tr>\n",
       "      <th>count</th>\n",
       "      <td>4119.000000</td>\n",
       "      <td>4119.000000</td>\n",
       "      <td>4119.000000</td>\n",
       "      <td>4119.000000</td>\n",
       "      <td>4119.000000</td>\n",
       "    </tr>\n",
       "    <tr>\n",
       "      <th>mean</th>\n",
       "      <td>40.113620</td>\n",
       "      <td>2.537266</td>\n",
       "      <td>93.579704</td>\n",
       "      <td>3.621356</td>\n",
       "      <td>0.109493</td>\n",
       "    </tr>\n",
       "    <tr>\n",
       "      <th>std</th>\n",
       "      <td>10.313362</td>\n",
       "      <td>2.568159</td>\n",
       "      <td>0.579349</td>\n",
       "      <td>1.733591</td>\n",
       "      <td>0.312294</td>\n",
       "    </tr>\n",
       "    <tr>\n",
       "      <th>min</th>\n",
       "      <td>18.000000</td>\n",
       "      <td>1.000000</td>\n",
       "      <td>92.201000</td>\n",
       "      <td>0.635000</td>\n",
       "      <td>0.000000</td>\n",
       "    </tr>\n",
       "    <tr>\n",
       "      <th>25%</th>\n",
       "      <td>32.000000</td>\n",
       "      <td>1.000000</td>\n",
       "      <td>93.075000</td>\n",
       "      <td>1.334000</td>\n",
       "      <td>0.000000</td>\n",
       "    </tr>\n",
       "    <tr>\n",
       "      <th>50%</th>\n",
       "      <td>38.000000</td>\n",
       "      <td>2.000000</td>\n",
       "      <td>93.749000</td>\n",
       "      <td>4.857000</td>\n",
       "      <td>0.000000</td>\n",
       "    </tr>\n",
       "    <tr>\n",
       "      <th>75%</th>\n",
       "      <td>47.000000</td>\n",
       "      <td>3.000000</td>\n",
       "      <td>93.994000</td>\n",
       "      <td>4.961000</td>\n",
       "      <td>0.000000</td>\n",
       "    </tr>\n",
       "    <tr>\n",
       "      <th>max</th>\n",
       "      <td>88.000000</td>\n",
       "      <td>35.000000</td>\n",
       "      <td>94.767000</td>\n",
       "      <td>5.045000</td>\n",
       "      <td>1.000000</td>\n",
       "    </tr>\n",
       "  </tbody>\n",
       "</table>\n",
       "</div>"
      ],
      "text/plain": [
       "               age     campaign          cpi          eu3            y\n",
       "count  4119.000000  4119.000000  4119.000000  4119.000000  4119.000000\n",
       "mean     40.113620     2.537266    93.579704     3.621356     0.109493\n",
       "std      10.313362     2.568159     0.579349     1.733591     0.312294\n",
       "min      18.000000     1.000000    92.201000     0.635000     0.000000\n",
       "25%      32.000000     1.000000    93.075000     1.334000     0.000000\n",
       "50%      38.000000     2.000000    93.749000     4.857000     0.000000\n",
       "75%      47.000000     3.000000    93.994000     4.961000     0.000000\n",
       "max      88.000000    35.000000    94.767000     5.045000     1.000000"
      ]
     },
     "execution_count": 99,
     "metadata": {},
     "output_type": "execute_result"
    }
   ],
   "source": [
    "df.describe()"
   ]
  },
  {
   "cell_type": "markdown",
   "id": "a405d986",
   "metadata": {},
   "source": [
    "Defining cor as the correlation table so that I can use it in the heatmap"
   ]
  },
  {
   "cell_type": "code",
   "execution_count": 102,
   "id": "164cd6a2",
   "metadata": {},
   "outputs": [],
   "source": [
    "cor=df.corr()"
   ]
  },
  {
   "cell_type": "markdown",
   "id": "ed845653",
   "metadata": {},
   "source": [
    "The heatmap shows a lot of low correlation, this is why we decided to test with these variables"
   ]
  },
  {
   "cell_type": "code",
   "execution_count": 104,
   "id": "ba661444",
   "metadata": {},
   "outputs": [
    {
     "data": {
      "text/plain": [
       "<AxesSubplot:>"
      ]
     },
     "execution_count": 104,
     "metadata": {},
     "output_type": "execute_result"
    },
    {
     "data": {
      "image/png": "[encoded data removed]",
      "text/plain": [
       "<Figure size 432x288 with 2 Axes>"
      ]
     },
     "metadata": {
      "needs_background": "light"
     },
     "output_type": "display_data"
    }
   ],
   "source": [
    "sns.heatmap(cor)"
   ]
  },
  {
   "cell_type": "markdown",
   "id": "81504e36",
   "metadata": {},
   "source": [
    "Running pair plots, notice that we excluded the EU3 rate since the graphs did not have any practical information."
   ]
  },
  {
   "cell_type": "code",
   "execution_count": 50,
   "id": "11362ec6",
   "metadata": {},
   "outputs": [
    {
     "data": {
      "text/plain": [
       "<seaborn.axisgrid.PairGrid at 0x7fe5c73ffd30>"
      ]
     },
     "execution_count": 50,
     "metadata": {},
     "output_type": "execute_result"
    },
    {
     "data": {
      "image/png": "[encoded data removed]",
      "text/plain": [
       "<Figure size 593.25x540 with 12 Axes>"
      ]
     },
     "metadata": {
      "needs_background": "light"
     },
     "output_type": "display_data"
    }
   ],
   "source": [
    "sns.pairplot(df[['age','campaign','cpi','y']], hue='y') #comparisons"
   ]
  },
  {
   "cell_type": "markdown",
   "id": "741ff3b4",
   "metadata": {},
   "source": [
    "Turning the output group, 'y', into 0's and 1's so that we could use it as the test variable for our machine learning."
   ]
  },
  {
   "cell_type": "code",
   "execution_count": 105,
   "id": "c0eb19c2",
   "metadata": {},
   "outputs": [],
   "source": [
    "y = df['y']\n",
    "y.replace('yes',1,inplace=True)\n",
    "y.replace('no',0,inplace=True)\n",
    "y = np.array(y)"
   ]
  },
  {
   "cell_type": "code",
   "execution_count": 53,
   "id": "cf013a2a",
   "metadata": {},
   "outputs": [
    {
     "data": {
      "text/plain": [
       "y\n",
       "0    3668\n",
       "1     451\n",
       "Name: y, dtype: int64"
      ]
     },
     "execution_count": 53,
     "metadata": {},
     "output_type": "execute_result"
    }
   ],
   "source": [
    "df.y.groupby(df.y).count()"
   ]
  },
  {
   "cell_type": "markdown",
   "id": "6a071a9f",
   "metadata": {},
   "source": [
    "Setting the the data that we want to train and test with. Y is our output and X is the data that will be tested."
   ]
  },
  {
   "cell_type": "code",
   "execution_count": 54,
   "id": "be18f99b",
   "metadata": {},
   "outputs": [],
   "source": [
    "X = df.loc(axis=1)['age','campaign','cpi','eu3']\n",
    "y = df['y']"
   ]
  },
  {
   "cell_type": "markdown",
   "id": "a554ce5d",
   "metadata": {},
   "source": [
    "We are doing an 80/20 split with Decision Tree. We will keep random state=30 for all of the tests and will be using the raw data."
   ]
  },
  {
   "cell_type": "code",
   "execution_count": 106,
   "id": "17b9e420-d641-4a55-9589-a6a5143cb709",
   "metadata": {},
   "outputs": [],
   "source": [
    "X_train, X_test, y_train, y_test = train_test_split(X,y, \n",
    "                                                    test_size=.20, \n",
    "                                                    random_state=30)"
   ]
  },
  {
   "cell_type": "markdown",
   "id": "f6a966ce",
   "metadata": {},
   "source": [
    "Fitting the data so that the model will predict "
   ]
  },
  {
   "cell_type": "code",
   "execution_count": 57,
   "id": "7e905212-0366-4506-81d3-d99d09157cdd",
   "metadata": {},
   "outputs": [],
   "source": [
    "#clf = tree.DecisionTreeClassifier()\n",
    "clf = tree.DecisionTreeClassifier(criterion=\"entropy\",\n",
    "                                 max_depth=5)\n",
    "clf = clf.fit(X_train, y_train)"
   ]
  },
  {
   "cell_type": "code",
   "execution_count": 58,
   "id": "c041d047-83bf-48ff-90e9-035b7d44fb36",
   "metadata": {},
   "outputs": [],
   "source": [
    "y_pred=clf.predict(X_test)"
   ]
  },
  {
   "cell_type": "markdown",
   "id": "90df51d0",
   "metadata": {},
   "source": [
    "Creating a function that allows us to create the confusion matrix faster each time, the confusion matrix tells us the false positives, true falses, true positives, and false negatives."
   ]
  },
  {
   "cell_type": "code",
   "execution_count": 59,
   "id": "3646beb2-9dae-4f4a-823a-74a28aaebfaf",
   "metadata": {},
   "outputs": [],
   "source": [
    "def plot_cm(y_pred, y_test):\n",
    "    cm = confusion_matrix(y_pred, y_test)\n",
    "    fig = plt.figure(figsize=(5,5))\n",
    "    heatmap = sns.heatmap(cm, annot=True, fmt='.2f', cmap='RdYlGn')\n",
    "    plt.ylabel('True label')\n",
    "    plt.xlabel('Predicted Label')"
   ]
  },
  {
   "cell_type": "markdown",
   "id": "0dd85511",
   "metadata": {},
   "source": [
    "### 80/20 Decision Tree"
   ]
  },
  {
   "cell_type": "code",
   "execution_count": 60,
   "id": "1fa164e3-3103-4988-8d41-5a2abbda091c",
   "metadata": {},
   "outputs": [
    {
     "data": {
      "image/png": "[encoded data removed]",
      "text/plain": [
       "<Figure size 360x360 with 2 Axes>"
      ]
     },
     "metadata": {
      "needs_background": "light"
     },
     "output_type": "display_data"
    }
   ],
   "source": [
    "plot_cm(y_pred, y_test)"
   ]
  },
  {
   "cell_type": "markdown",
   "id": "910abc04",
   "metadata": {},
   "source": [
    "The classification report shows the overall accuracy of the model with those parameters, with ours being at 90% for this test"
   ]
  },
  {
   "cell_type": "code",
   "execution_count": 61,
   "id": "9ee3f280-8e8d-4815-bcc4-b33c762262cb",
   "metadata": {},
   "outputs": [
    {
     "name": "stdout",
     "output_type": "stream",
     "text": [
      "              precision    recall  f1-score   support\n",
      "\n",
      "           0       0.99      0.91      0.94       793\n",
      "           1       0.22      0.68      0.33        31\n",
      "\n",
      "    accuracy                           0.90       824\n",
      "   macro avg       0.60      0.79      0.64       824\n",
      "weighted avg       0.96      0.90      0.92       824\n",
      "\n"
     ]
    }
   ],
   "source": [
    "print(classification_report(y_pred,y_test))"
   ]
  },
  {
   "cell_type": "markdown",
   "id": "1f3a6fe9",
   "metadata": {},
   "source": [
    "Repeating the same process but renaming and changing the test size to 70/30"
   ]
  },
  {
   "cell_type": "code",
   "execution_count": 62,
   "id": "b129eca5-db5c-4029-af20-9d9b91183905",
   "metadata": {},
   "outputs": [],
   "source": [
    "X1 = df.loc(axis=1)['age','campaign','cpi','eu3']\n",
    "y1 = df['y']"
   ]
  },
  {
   "cell_type": "code",
   "execution_count": 63,
   "id": "b45ee01c-9777-47c4-93a5-bc334bca71c2",
   "metadata": {},
   "outputs": [],
   "source": [
    "X1_train, X1_test, y1_train, y1_test = train_test_split(X1,y1, \n",
    "                                                    test_size=.30, \n",
    "                                                    random_state=30)"
   ]
  },
  {
   "cell_type": "code",
   "execution_count": 64,
   "id": "102d5807-47b4-4b86-ae06-53dd7bf899fc",
   "metadata": {},
   "outputs": [],
   "source": [
    "#clf = tree.DecisionTreeClassifier()\n",
    "clf = tree.DecisionTreeClassifier(criterion=\"entropy\",\n",
    "                                 max_depth=5)\n",
    "clf = clf.fit(X1_train, y1_train)"
   ]
  },
  {
   "cell_type": "code",
   "execution_count": 65,
   "id": "7f6a3e89-21f0-418f-bd97-393d4af0c6c0",
   "metadata": {},
   "outputs": [],
   "source": [
    "y1_pred=clf.predict(X1_test)"
   ]
  },
  {
   "cell_type": "markdown",
   "id": "e95d9611",
   "metadata": {},
   "source": [
    "### 70/30 Decision Tree"
   ]
  },
  {
   "cell_type": "code",
   "execution_count": 66,
   "id": "56567cd7-6569-4da3-818c-fe3f08d3929c",
   "metadata": {},
   "outputs": [
    {
     "data": {
      "image/png": "[encoded data removed]",
      "text/plain": [
       "<Figure size 360x360 with 2 Axes>"
      ]
     },
     "metadata": {
      "needs_background": "light"
     },
     "output_type": "display_data"
    }
   ],
   "source": [
    "plot_cm(y1_pred, y1_test)"
   ]
  },
  {
   "cell_type": "markdown",
   "id": "6ad12054",
   "metadata": {},
   "source": [
    "This report gave us slightly less accuracy and precision, but the support was greater which decreased the f1 score for if they subscribed to a term deposit. "
   ]
  },
  {
   "cell_type": "code",
   "execution_count": 67,
   "id": "fc96859b-7607-493a-bcce-5d0b2f596962",
   "metadata": {},
   "outputs": [
    {
     "name": "stdout",
     "output_type": "stream",
     "text": [
      "              precision    recall  f1-score   support\n",
      "\n",
      "           0       0.98      0.91      0.94      1184\n",
      "           1       0.21      0.54      0.30        52\n",
      "\n",
      "    accuracy                           0.89      1236\n",
      "   macro avg       0.59      0.72      0.62      1236\n",
      "weighted avg       0.95      0.89      0.92      1236\n",
      "\n"
     ]
    }
   ],
   "source": [
    "print(classification_report(y1_pred,y1_test))"
   ]
  },
  {
   "cell_type": "code",
   "execution_count": 68,
   "id": "3ab462cd-6ae5-4994-b602-cb1e3fcd5f67",
   "metadata": {},
   "outputs": [],
   "source": [
    "Xa = df.loc(axis=1)['age','campaign','cpi','eu3']\n",
    "ya = df['y']"
   ]
  },
  {
   "cell_type": "code",
   "execution_count": 69,
   "id": "75fb53e5-552a-45dc-9f7a-9016d53bacf8",
   "metadata": {},
   "outputs": [],
   "source": [
    "Xa_train, Xa_test, ya_train, ya_test = train_test_split(Xa,ya, \n",
    "                                                    test_size=.20, \n",
    "                                                    random_state=30)"
   ]
  },
  {
   "cell_type": "code",
   "execution_count": 70,
   "id": "d5034af3-9387-43bc-883d-d72939e7514a",
   "metadata": {},
   "outputs": [
    {
     "data": {
      "text/plain": [
       "RandomForestClassifier(criterion='entropy', n_estimators=250)"
      ]
     },
     "execution_count": 70,
     "metadata": {},
     "output_type": "execute_result"
    }
   ],
   "source": [
    "clf = RandomForestClassifier(n_estimators=250,\n",
    "                            criterion='entropy')\n",
    "clf.fit(Xa_train,np.ravel(ya_train))"
   ]
  },
  {
   "cell_type": "code",
   "execution_count": 71,
   "id": "3e85c50d-bccd-478c-9ee8-08fce1ef229f",
   "metadata": {},
   "outputs": [],
   "source": [
    "ya_pred = clf.predict(Xa_test)"
   ]
  },
  {
   "cell_type": "markdown",
   "id": "643338d0",
   "metadata": {},
   "source": [
    "### 80/20 Random Forest"
   ]
  },
  {
   "cell_type": "code",
   "execution_count": 72,
   "id": "e41c9de2-0580-487b-a161-6bf644e03404",
   "metadata": {},
   "outputs": [
    {
     "data": {
      "image/png": "[encoded data removed]",
      "text/plain": [
       "<Figure size 360x360 with 2 Axes>"
      ]
     },
     "metadata": {
      "needs_background": "light"
     },
     "output_type": "display_data"
    }
   ],
   "source": [
    "plot_cm(ya_pred, ya_test)"
   ]
  },
  {
   "cell_type": "code",
   "execution_count": 73,
   "id": "7bb3eece-b209-470d-93e1-b832138d6f8e",
   "metadata": {},
   "outputs": [
    {
     "name": "stdout",
     "output_type": "stream",
     "text": [
      "              precision    recall  f1-score   support\n",
      "\n",
      "           0       0.95      0.91      0.93       759\n",
      "           1       0.27      0.40      0.33        65\n",
      "\n",
      "    accuracy                           0.87       824\n",
      "   macro avg       0.61      0.65      0.63       824\n",
      "weighted avg       0.89      0.87      0.88       824\n",
      "\n"
     ]
    }
   ],
   "source": [
    "print(classification_report(ya_pred,ya_test))"
   ]
  },
  {
   "cell_type": "code",
   "execution_count": 74,
   "id": "a6ed4772-ef76-4019-809e-92f36cc1c821",
   "metadata": {},
   "outputs": [],
   "source": [
    "Xb = df.loc(axis=1)['age','campaign','cpi','eu3']\n",
    "yb = df['y']"
   ]
  },
  {
   "cell_type": "code",
   "execution_count": 75,
   "id": "648a7240-fc0e-4954-a998-5f943d862973",
   "metadata": {},
   "outputs": [],
   "source": [
    "Xb_train, Xb_test, yb_train, yb_test = train_test_split(Xb,yb, \n",
    "                                                    test_size=.30, \n",
    "                                                    random_state=30)"
   ]
  },
  {
   "cell_type": "markdown",
   "id": "bcfa3669",
   "metadata": {},
   "source": [
    "Will be switching to random forest and running the same tests to compare the results."
   ]
  },
  {
   "cell_type": "code",
   "execution_count": 107,
   "id": "deeb2ffd-1349-4951-832d-55f4503bda8d",
   "metadata": {},
   "outputs": [
    {
     "data": {
      "text/plain": [
       "RandomForestClassifier(criterion='entropy', n_estimators=250)"
      ]
     },
     "execution_count": 107,
     "metadata": {},
     "output_type": "execute_result"
    }
   ],
   "source": [
    "clf = RandomForestClassifier(n_estimators=250,\n",
    "                            criterion='entropy')\n",
    "clf.fit(Xb_train,np.ravel(yb_train))"
   ]
  },
  {
   "cell_type": "code",
   "execution_count": 77,
   "id": "b2968143-cc7d-40af-af9c-febdcd194419",
   "metadata": {},
   "outputs": [],
   "source": [
    "yb_pred = clf.predict(Xb_test)"
   ]
  },
  {
   "cell_type": "markdown",
   "id": "a5fc14b6",
   "metadata": {},
   "source": [
    "### 70/30 Random Forest"
   ]
  },
  {
   "cell_type": "code",
   "execution_count": 80,
   "id": "d469902d-cf5d-4a32-9d58-3fefcb557bbb",
   "metadata": {},
   "outputs": [
    {
     "data": {
      "image/png": "[encoded data removed]",
      "text/plain": [
       "<Figure size 360x360 with 2 Axes>"
      ]
     },
     "metadata": {
      "needs_background": "light"
     },
     "output_type": "display_data"
    }
   ],
   "source": [
    "plot_cm(yb_pred, yb_test)"
   ]
  },
  {
   "cell_type": "code",
   "execution_count": 81,
   "id": "74b06d2d-77c5-4e5d-8b7d-62ac81a949ee",
   "metadata": {},
   "outputs": [
    {
     "name": "stdout",
     "output_type": "stream",
     "text": [
      "              precision    recall  f1-score   support\n",
      "\n",
      "           0       0.95      0.92      0.93      1140\n",
      "           1       0.30      0.43      0.35        96\n",
      "\n",
      "    accuracy                           0.88      1236\n",
      "   macro avg       0.63      0.67      0.64      1236\n",
      "weighted avg       0.90      0.88      0.89      1236\n",
      "\n"
     ]
    }
   ],
   "source": [
    "print(classification_report(yb_pred,yb_test))"
   ]
  }
 ],
 "metadata": {
  "kernelspec": {
   "display_name": "Python 3",
   "language": "python",
   "name": "python3"
  },
  "language_info": {
   "codemirror_mode": {
    "name": "ipython",
    "version": 3
   },
   "file_extension": ".py",
   "mimetype": "text/x-python",
   "name": "python",
   "nbconvert_exporter": "python",
   "pygments_lexer": "ipython3",
   "version": "3.8.8"
  }
 },
 "nbformat": 4,
 "nbformat_minor": 5
}
